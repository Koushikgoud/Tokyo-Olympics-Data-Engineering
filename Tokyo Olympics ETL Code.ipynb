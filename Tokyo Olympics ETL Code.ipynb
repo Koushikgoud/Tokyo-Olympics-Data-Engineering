{
 "cells": [
  {
   "cell_type": "code",
   "execution_count": 0,
   "metadata": {
    "application/vnd.databricks.v1+cell": {
     "cellMetadata": {
      "byteLimit": 2048000,
      "rowLimit": 10000
     },
     "inputWidgets": {},
     "nuid": "65512ff7-1894-4c63-8645-125268066cde",
     "showTitle": false,
     "title": ""
    }
   },
   "outputs": [],
   "source": [
    "from pyspark.sql.functions import col\n",
    "from pyspark.sql.types import IntegerType, BooleanType, DoubleType, DateType "
   ]
  },
  {
   "cell_type": "code",
   "execution_count": 0,
   "metadata": {
    "application/vnd.databricks.v1+cell": {
     "cellMetadata": {
      "byteLimit": 2048000,
      "rowLimit": 10000
     },
     "inputWidgets": {},
     "nuid": "5d066b6e-fc18-49e8-9285-d89f7c36064f",
     "showTitle": false,
     "title": ""
    }
   },
   "outputs": [
    {
     "output_type": "display_data",
     "data": {
      "text/plain": [
       "\u001B[0;31m---------------------------------------------------------------------------\u001B[0m\n",
       "\u001B[0;31mExecutionError\u001B[0m                            Traceback (most recent call last)\n",
       "File \u001B[0;32m<command-1349091796859092>, line 8\u001B[0m\n",
       "\u001B[1;32m      1\u001B[0m configs \u001B[38;5;241m=\u001B[39m {\u001B[38;5;124m\"\u001B[39m\u001B[38;5;124mfs.azure.account.auth.type\u001B[39m\u001B[38;5;124m\"\u001B[39m: \u001B[38;5;124m\"\u001B[39m\u001B[38;5;124mOAuth\u001B[39m\u001B[38;5;124m\"\u001B[39m,\n",
       "\u001B[1;32m      2\u001B[0m \u001B[38;5;124m\"\u001B[39m\u001B[38;5;124mfs.azure.account.oauth.provider.type\u001B[39m\u001B[38;5;124m\"\u001B[39m: \u001B[38;5;124m\"\u001B[39m\u001B[38;5;124morg.apache.hadoop.fs.azurebfs.oauth2.ClientCredsTokenProvider\u001B[39m\u001B[38;5;124m\"\u001B[39m,\n",
       "\u001B[1;32m      3\u001B[0m \u001B[38;5;124m\"\u001B[39m\u001B[38;5;124mfs.azure.account.oauth2.client.id\u001B[39m\u001B[38;5;124m\"\u001B[39m: \u001B[38;5;124m\"\u001B[39m\u001B[38;5;124m4b7f20a0-dd44-4fb7-81bc-aa848a5dee65\u001B[39m\u001B[38;5;124m\"\u001B[39m,\n",
       "\u001B[1;32m      4\u001B[0m \u001B[38;5;124m\"\u001B[39m\u001B[38;5;124mfs.azure.account.oauth2.client.secret\u001B[39m\u001B[38;5;124m\"\u001B[39m: \u001B[38;5;124m'\u001B[39m\u001B[38;5;124mRQU8Q~0AF0K~WasvFEmNHoXKKggEsal_EPJo.aes\u001B[39m\u001B[38;5;124m'\u001B[39m,\n",
       "\u001B[1;32m      5\u001B[0m \u001B[38;5;124m\"\u001B[39m\u001B[38;5;124mfs.azure.account.oauth2.client.endpoint\u001B[39m\u001B[38;5;124m\"\u001B[39m: \u001B[38;5;124m\"\u001B[39m\u001B[38;5;124mhttps://login.microsoftonline.com/667782a1-3f36-4747-a857-7b4b0fab5107/oauth2/token\u001B[39m\u001B[38;5;124m\"\u001B[39m}\n",
       "\u001B[0;32m----> 8\u001B[0m dbutils\u001B[38;5;241m.\u001B[39mfs\u001B[38;5;241m.\u001B[39mmount(\n",
       "\u001B[1;32m      9\u001B[0m source \u001B[38;5;241m=\u001B[39m \u001B[38;5;124m\"\u001B[39m\u001B[38;5;124mabfss://tokyo-olympics-data@olympicsdataeng2023.dfs.core.windows.net\u001B[39m\u001B[38;5;124m\"\u001B[39m, \u001B[38;5;66;03m# container@storageaccount\u001B[39;00m\n",
       "\u001B[1;32m     10\u001B[0m mount_point \u001B[38;5;241m=\u001B[39m \u001B[38;5;124m\"\u001B[39m\u001B[38;5;124m/mnt/tokyoolymics\u001B[39m\u001B[38;5;124m\"\u001B[39m,\n",
       "\u001B[1;32m     11\u001B[0m extra_configs \u001B[38;5;241m=\u001B[39m configs)\n",
       "\n",
       "File \u001B[0;32m/databricks/python_shell/dbruntime/dbutils.py:362\u001B[0m, in \u001B[0;36mDBUtils.FSHandler.prettify_exception_message.<locals>.f_with_exception_handling\u001B[0;34m(*args, **kwargs)\u001B[0m\n",
       "\u001B[1;32m    360\u001B[0m exc\u001B[38;5;241m.\u001B[39m__context__ \u001B[38;5;241m=\u001B[39m \u001B[38;5;28;01mNone\u001B[39;00m\n",
       "\u001B[1;32m    361\u001B[0m exc\u001B[38;5;241m.\u001B[39m__cause__ \u001B[38;5;241m=\u001B[39m \u001B[38;5;28;01mNone\u001B[39;00m\n",
       "\u001B[0;32m--> 362\u001B[0m \u001B[38;5;28;01mraise\u001B[39;00m exc\n",
       "\n",
       "\u001B[0;31mExecutionError\u001B[0m: An error occurred while calling o1008.mount.\n",
       ": java.rmi.RemoteException: java.lang.IllegalArgumentException: requirement failed: Directory already mounted: /mnt/tokyoolymics; nested exception is: \n",
       "\tjava.lang.IllegalArgumentException: requirement failed: Directory already mounted: /mnt/tokyoolymics\n",
       "\tat com.databricks.backend.daemon.data.client.DbfsClient.send0(DbfsClient.scala:135)\n",
       "\tat com.databricks.backend.daemon.data.client.DbfsClient.sendIdempotent(DbfsClient.scala:69)\n",
       "\tat com.databricks.backend.daemon.dbutils.DBUtilsCore.createOrUpdateMount(DBUtilsCore.scala:1057)\n",
       "\tat com.databricks.backend.daemon.dbutils.DBUtilsCore.$anonfun$mount$1(DBUtilsCore.scala:1083)\n",
       "\tat com.databricks.logging.UsageLogging.$anonfun$recordOperation$1(UsageLogging.scala:571)\n",
       "\tat com.databricks.logging.UsageLogging.executeThunkAndCaptureResultTags$1(UsageLogging.scala:666)\n",
       "\tat com.databricks.logging.UsageLogging.$anonfun$recordOperationWithResultTags$4(UsageLogging.scala:684)\n",
       "\tat com.databricks.logging.UsageLogging.$anonfun$withAttributionContext$1(UsageLogging.scala:426)\n",
       "\tat scala.util.DynamicVariable.withValue(DynamicVariable.scala:62)\n",
       "\tat com.databricks.logging.AttributionContext$.withValue(AttributionContext.scala:196)\n",
       "\tat com.databricks.logging.UsageLogging.withAttributionContext(UsageLogging.scala:424)\n",
       "\tat com.databricks.logging.UsageLogging.withAttributionContext$(UsageLogging.scala:418)\n",
       "\tat com.databricks.backend.daemon.dbutils.FSUtils.withAttributionContext(DBUtilsCore.scala:69)\n",
       "\tat com.databricks.logging.UsageLogging.withAttributionTags(UsageLogging.scala:470)\n",
       "\tat com.databricks.logging.UsageLogging.withAttributionTags$(UsageLogging.scala:455)\n",
       "\tat com.databricks.backend.daemon.dbutils.FSUtils.withAttributionTags(DBUtilsCore.scala:69)\n",
       "\tat com.databricks.logging.UsageLogging.recordOperationWithResultTags(UsageLogging.scala:661)\n",
       "\tat com.databricks.logging.UsageLogging.recordOperationWithResultTags$(UsageLogging.scala:580)\n",
       "\tat com.databricks.backend.daemon.dbutils.FSUtils.recordOperationWithResultTags(DBUtilsCore.scala:69)\n",
       "\tat com.databricks.logging.UsageLogging.recordOperation(UsageLogging.scala:571)\n",
       "\tat com.databricks.logging.UsageLogging.recordOperation$(UsageLogging.scala:540)\n",
       "\tat com.databricks.backend.daemon.dbutils.FSUtils.recordOperation(DBUtilsCore.scala:69)\n",
       "\tat com.databricks.backend.daemon.dbutils.FSUtils.recordDbutilsFsOp(DBUtilsCore.scala:133)\n",
       "\tat com.databricks.backend.daemon.dbutils.DBUtilsCore.mount(DBUtilsCore.scala:1077)\n",
       "\tat sun.reflect.NativeMethodAccessorImpl.invoke0(Native Method)\n",
       "\tat sun.reflect.NativeMethodAccessorImpl.invoke(NativeMethodAccessorImpl.java:62)\n",
       "\tat sun.reflect.DelegatingMethodAccessorImpl.invoke(DelegatingMethodAccessorImpl.java:43)\n",
       "\tat java.lang.reflect.Method.invoke(Method.java:498)\n",
       "\tat py4j.reflection.MethodInvoker.invoke(MethodInvoker.java:244)\n",
       "\tat py4j.reflection.ReflectionEngine.invoke(ReflectionEngine.java:397)\n",
       "\tat py4j.Gateway.invoke(Gateway.java:306)\n",
       "\tat py4j.commands.AbstractCommand.invokeMethod(AbstractCommand.java:132)\n",
       "\tat py4j.commands.CallCommand.execute(CallCommand.java:79)\n",
       "\tat py4j.ClientServerConnection.waitForCommands(ClientServerConnection.java:195)\n",
       "\tat py4j.ClientServerConnection.run(ClientServerConnection.java:115)\n",
       "\tat java.lang.Thread.run(Thread.java:750)\n",
       "Caused by: java.lang.IllegalArgumentException: requirement failed: Directory already mounted: /mnt/tokyoolymics\n",
       "\tat scala.Predef$.require(Predef.scala:281)\n",
       "\tat com.databricks.backend.daemon.data.server.DefaultMetadataManager.$anonfun$insertMount$1(MetadataManager.scala:601)\n",
       "\tat com.databricks.backend.daemon.data.server.DefaultMetadataManager.$anonfun$modifyAndVerify$2(MetadataManager.scala:977)\n",
       "\tat scala.runtime.java8.JFunction0$mcV$sp.apply(JFunction0$mcV$sp.java:23)\n",
       "\tat com.databricks.backend.daemon.data.server.DefaultMetadataManager.withRetries(MetadataManager.scala:750)\n",
       "\tat com.databricks.backend.daemon.data.server.DefaultMetadataManager.modifyAndVerify(MetadataManager.scala:966)\n",
       "\tat com.databricks.backend.daemon.data.server.DefaultMetadataManager.insertMount(MetadataManager.scala:609)\n",
       "\tat com.databricks.backend.daemon.data.server.handler.MountHandler.receive(MountHandler.scala:120)\n",
       "\tat com.databricks.backend.daemon.data.server.session.SessionContext.$anonfun$queryHandlers$1(SessionContext.scala:54)\n",
       "\tat com.databricks.backend.daemon.data.server.session.SessionContext.$anonfun$queryHandlers$1$adapted(SessionContext.scala:53)\n",
       "\tat scala.collection.immutable.List.foreach(List.scala:431)\n",
       "\tat com.databricks.backend.daemon.data.server.session.SessionContext.queryHandlers(SessionContext.scala:53)\n",
       "\tat com.databricks.backend.daemon.data.server.DbfsServerBackend$$anonfun$receive$4.$anonfun$applyOrElse$5(DbfsServerBackend.scala:386)\n",
       "\tat com.databricks.logging.UsageLogging.$anonfun$withAttributionContext$1(UsageLogging.scala:426)\n",
       "\tat scala.util.DynamicVariable.withValue(DynamicVariable.scala:62)\n",
       "\tat com.databricks.logging.AttributionContext$.withValue(AttributionContext.scala:216)\n",
       "\tat com.databricks.logging.UsageLogging.withAttributionContext(UsageLogging.scala:424)\n",
       "\tat com.databricks.logging.UsageLogging.withAttributionContext$(UsageLogging.scala:418)\n",
       "\tat com.databricks.rpc.ServerBackend.withAttributionContext(ServerBackend.scala:22)\n",
       "\tat com.databricks.logging.UsageLogging.withAttributionTags(UsageLogging.scala:472)\n",
       "\tat com.databricks.logging.UsageLogging.withAttributionTags$(UsageLogging.scala:455)\n",
       "\tat com.databricks.rpc.ServerBackend.withAttributionTags(ServerBackend.scala:22)\n",
       "\tat com.databricks.backend.daemon.data.server.DbfsServerBackend$$anonfun$receive$4.applyOrElse(DbfsServerBackend.scala:386)\n",
       "\tat com.databricks.backend.daemon.data.server.DbfsServerBackend$$anonfun$receive$4.applyOrElse(DbfsServerBackend.scala:332)\n",
       "\tat com.databricks.rpc.ServerBackend.$anonfun$internalReceive0$2(ServerBackend.scala:174)\n",
       "\tat com.databricks.rpc.ServerBackend$$anonfun$commonReceive$1.applyOrElse(ServerBackend.scala:200)\n",
       "\tat com.databricks.rpc.ServerBackend$$anonfun$commonReceive$1.applyOrElse(ServerBackend.scala:200)\n",
       "\tat com.databricks.rpc.ServerBackend.internalReceive0(ServerBackend.scala:171)\n",
       "\tat com.databricks.rpc.ServerBackend.$anonfun$internalReceive$1(ServerBackend.scala:147)\n",
       "\tat com.databricks.logging.UsageLogging.$anonfun$recordOperation$1(UsageLogging.scala:573)\n",
       "\tat com.databricks.logging.UsageLogging.executeThunkAndCaptureResultTags$1(UsageLogging.scala:668)\n",
       "\tat com.databricks.logging.UsageLogging.$anonfun$recordOperationWithResultTags$4(UsageLogging.scala:686)\n",
       "\tat com.databricks.logging.UsageLogging.$anonfun$withAttributionContext$1(UsageLogging.scala:426)\n",
       "\tat scala.util.DynamicVariable.withValue(DynamicVariable.scala:62)\n",
       "\tat com.databricks.logging.AttributionContext$.withValue(AttributionContext.scala:216)\n",
       "\tat com.databricks.logging.UsageLogging.withAttributionContext(UsageLogging.scala:424)\n",
       "\tat com.databricks.logging.UsageLogging.withAttributionContext$(UsageLogging.scala:418)\n",
       "\tat com.databricks.rpc.ServerBackend.withAttributionContext(ServerBackend.scala:22)\n",
       "\tat com.databricks.logging.UsageLogging.withAttributionTags(UsageLogging.scala:472)\n",
       "\tat com.databricks.logging.UsageLogging.withAttributionTags$(UsageLogging.scala:455)\n",
       "\tat com.databricks.rpc.ServerBackend.withAttributionTags(ServerBackend.scala:22)\n",
       "\tat com.databricks.logging.UsageLogging.recordOperationWithResultTags(UsageLogging.scala:663)\n",
       "\tat com.databricks.logging.UsageLogging.recordOperationWithResultTags$(UsageLogging.scala:582)\n",
       "\tat com.databricks.rpc.ServerBackend.recordOperationWithResultTags(ServerBackend.scala:22)\n",
       "\tat com.databricks.logging.UsageLogging.recordOperation(UsageLogging.scala:573)\n",
       "\tat com.databricks.logging.UsageLogging.recordOperation$(UsageLogging.scala:542)\n",
       "\tat com.databricks.rpc.ServerBackend.recordOperation(ServerBackend.scala:22)\n",
       "\tat com.databricks.rpc.ServerBackend.internalReceive(ServerBackend.scala:147)\n",
       "\tat com.databricks.rpc.JettyServer$RequestManager.handleRPC(JettyServer.scala:1020)\n",
       "\tat com.databricks.rpc.JettyServer$RequestManager.handleRequestAndRespond(JettyServer.scala:941)\n",
       "\tat com.databricks.rpc.JettyServer$RequestManager.$anonfun$handleHttp$6(JettyServer.scala:545)\n",
       "\tat com.databricks.rpc.JettyServer$RequestManager.$anonfun$handleHttp$6$adapted(JettyServer.scala:514)\n",
       "\tat com.databricks.logging.activity.ActivityContextFactory$.$anonfun$withActivityInternal$4(ActivityContextFactory.scala:402)\n",
       "\tat com.databricks.logging.UsageLogging.$anonfun$withAttributionContext$1(UsageLogging.scala:426)\n",
       "\tat scala.util.DynamicVariable.withValue(DynamicVariable.scala:62)\n",
       "\tat com.databricks.logging.AttributionContext$.withValue(AttributionContext.scala:216)\n",
       "\tat com.databricks.logging.UsageLogging.withAttributionContext(UsageLogging.scala:424)\n",
       "\tat com.databricks.logging.UsageLogging.withAttributionContext$(UsageLogging.scala:418)\n",
       "\tat com.databricks.logging.activity.ActivityContextFactory$.withAttributionContext(ActivityContextFactory.scala:56)\n",
       "\tat com.databricks.logging.activity.ActivityContextFactory$.$anonfun$withActivityInternal$1(ActivityContextFactory.scala:402)\n",
       "\tat com.databricks.context.integrity.IntegrityCheckContext$ThreadLocalStorage$.withValue(IntegrityCheckContext.scala:44)\n",
       "\tat com.databricks.logging.activity.ActivityContextFactory$.withActivityInternal(ActivityContextFactory.scala:377)\n",
       "\tat com.databricks.logging.activity.ActivityContextFactory$.withServiceRequestActivity(ActivityContextFactory.scala:157)\n",
       "\tat com.databricks.rpc.JettyServer$RequestManager.handleHttp(JettyServer.scala:514)\n",
       "\tat com.databricks.rpc.JettyServer$RequestManager.doPost(JettyServer.scala:404)\n",
       "\tat javax.servlet.http.HttpServlet.service(HttpServlet.java:665)\n",
       "\tat com.databricks.rpc.HttpServletWithPatch.service(HttpServletWithPatch.scala:33)\n",
       "\tat javax.servlet.http.HttpServlet.service(HttpServlet.java:750)\n",
       "\tat org.eclipse.jetty.servlet.ServletHolder.handle(ServletHolder.java:848)\n",
       "\tat org.eclipse.jetty.servlet.ServletHandler.doHandle(ServletHandler.java:585)\n",
       "\tat org.eclipse.jetty.servlet.ServletHandler.doScope(ServletHandler.java:515)\n",
       "\tat org.eclipse.jetty.server.handler.ScopedHandler.handle(ScopedHandler.java:141)\n",
       "\tat org.eclipse.jetty.server.handler.HandlerWrapper.handle(HandlerWrapper.java:134)\n",
       "\tat org.eclipse.jetty.server.Server.handle(Server.java:539)\n",
       "\tat org.eclipse.jetty.server.HttpChannel.handle(HttpChannel.java:333)\n",
       "\tat org.eclipse.jetty.server.HttpConnection.onFillable(HttpConnection.java:251)\n",
       "\tat org.eclipse.jetty.io.AbstractConnection$ReadCallback.succeeded(AbstractConnection.java:283)\n",
       "\tat org.eclipse.jetty.io.FillInterest.fillable(FillInterest.java:108)\n",
       "\tat org.eclipse.jetty.io.SelectChannelEndPoint$2.run(SelectChannelEndPoint.java:93)\n",
       "\tat org.eclipse.jetty.util.thread.strategy.ExecuteProduceConsume.executeProduceConsume(ExecuteProduceConsume.java:303)\n",
       "\tat org.eclipse.jetty.util.thread.strategy.ExecuteProduceConsume.produceConsume(ExecuteProduceConsume.java:148)\n",
       "\tat org.eclipse.jetty.util.thread.strategy.ExecuteProduceConsume.run(ExecuteProduceConsume.java:136)\n",
       "\tat com.databricks.rpc.InstrumentedQueuedThreadPool$$anon$1.$anonfun$run$1(InstrumentedQueuedThreadPool.scala:81)\n",
       "\tat scala.runtime.java8.JFunction0$mcV$sp.apply(JFunction0$mcV$sp.java:23)\n",
       "\tat com.databricks.instrumentation.QueuedThreadPoolInstrumenter.trackActiveThreads(QueuedThreadPoolInstrumenter.scala:66)\n",
       "\tat com.databricks.instrumentation.QueuedThreadPoolInstrumenter.trackActiveThreads$(QueuedThreadPoolInstrumenter.scala:63)\n",
       "\tat com.databricks.rpc.InstrumentedQueuedThreadPool.trackActiveThreads(InstrumentedQueuedThreadPool.scala:47)\n",
       "\tat com.databricks.rpc.InstrumentedQueuedThreadPool$$anon$1.run(InstrumentedQueuedThreadPool.scala:76)\n",
       "\tat org.eclipse.jetty.util.thread.QueuedThreadPool.runJob(QueuedThreadPool.java:671)\n",
       "\tat org.eclipse.jetty.util.thread.QueuedThreadPool$2.run(QueuedThreadPool.java:589)\n",
       "\t... 1 more\n"
      ]
     },
     "metadata": {
      "application/vnd.databricks.v1+output": {
       "arguments": {},
       "data": "\u001B[0;31m---------------------------------------------------------------------------\u001B[0m\n\u001B[0;31mExecutionError\u001B[0m                            Traceback (most recent call last)\nFile \u001B[0;32m<command-1349091796859092>, line 8\u001B[0m\n\u001B[1;32m      1\u001B[0m configs \u001B[38;5;241m=\u001B[39m {\u001B[38;5;124m\"\u001B[39m\u001B[38;5;124mfs.azure.account.auth.type\u001B[39m\u001B[38;5;124m\"\u001B[39m: \u001B[38;5;124m\"\u001B[39m\u001B[38;5;124mOAuth\u001B[39m\u001B[38;5;124m\"\u001B[39m,\n\u001B[1;32m      2\u001B[0m \u001B[38;5;124m\"\u001B[39m\u001B[38;5;124mfs.azure.account.oauth.provider.type\u001B[39m\u001B[38;5;124m\"\u001B[39m: \u001B[38;5;124m\"\u001B[39m\u001B[38;5;124morg.apache.hadoop.fs.azurebfs.oauth2.ClientCredsTokenProvider\u001B[39m\u001B[38;5;124m\"\u001B[39m,\n\u001B[1;32m      3\u001B[0m \u001B[38;5;124m\"\u001B[39m\u001B[38;5;124mfs.azure.account.oauth2.client.id\u001B[39m\u001B[38;5;124m\"\u001B[39m: \u001B[38;5;124m\"\u001B[39m\u001B[38;5;124m4b7f20a0-dd44-4fb7-81bc-aa848a5dee65\u001B[39m\u001B[38;5;124m\"\u001B[39m,\n\u001B[1;32m      4\u001B[0m \u001B[38;5;124m\"\u001B[39m\u001B[38;5;124mfs.azure.account.oauth2.client.secret\u001B[39m\u001B[38;5;124m\"\u001B[39m: \u001B[38;5;124m'\u001B[39m\u001B[38;5;124mRQU8Q~0AF0K~WasvFEmNHoXKKggEsal_EPJo.aes\u001B[39m\u001B[38;5;124m'\u001B[39m,\n\u001B[1;32m      5\u001B[0m \u001B[38;5;124m\"\u001B[39m\u001B[38;5;124mfs.azure.account.oauth2.client.endpoint\u001B[39m\u001B[38;5;124m\"\u001B[39m: \u001B[38;5;124m\"\u001B[39m\u001B[38;5;124mhttps://login.microsoftonline.com/667782a1-3f36-4747-a857-7b4b0fab5107/oauth2/token\u001B[39m\u001B[38;5;124m\"\u001B[39m}\n\u001B[0;32m----> 8\u001B[0m dbutils\u001B[38;5;241m.\u001B[39mfs\u001B[38;5;241m.\u001B[39mmount(\n\u001B[1;32m      9\u001B[0m source \u001B[38;5;241m=\u001B[39m \u001B[38;5;124m\"\u001B[39m\u001B[38;5;124mabfss://tokyo-olympics-data@olympicsdataeng2023.dfs.core.windows.net\u001B[39m\u001B[38;5;124m\"\u001B[39m, \u001B[38;5;66;03m# container@storageaccount\u001B[39;00m\n\u001B[1;32m     10\u001B[0m mount_point \u001B[38;5;241m=\u001B[39m \u001B[38;5;124m\"\u001B[39m\u001B[38;5;124m/mnt/tokyoolymics\u001B[39m\u001B[38;5;124m\"\u001B[39m,\n\u001B[1;32m     11\u001B[0m extra_configs \u001B[38;5;241m=\u001B[39m configs)\n\nFile \u001B[0;32m/databricks/python_shell/dbruntime/dbutils.py:362\u001B[0m, in \u001B[0;36mDBUtils.FSHandler.prettify_exception_message.<locals>.f_with_exception_handling\u001B[0;34m(*args, **kwargs)\u001B[0m\n\u001B[1;32m    360\u001B[0m exc\u001B[38;5;241m.\u001B[39m__context__ \u001B[38;5;241m=\u001B[39m \u001B[38;5;28;01mNone\u001B[39;00m\n\u001B[1;32m    361\u001B[0m exc\u001B[38;5;241m.\u001B[39m__cause__ \u001B[38;5;241m=\u001B[39m \u001B[38;5;28;01mNone\u001B[39;00m\n\u001B[0;32m--> 362\u001B[0m \u001B[38;5;28;01mraise\u001B[39;00m exc\n\n\u001B[0;31mExecutionError\u001B[0m: An error occurred while calling o1008.mount.\n: java.rmi.RemoteException: java.lang.IllegalArgumentException: requirement failed: Directory already mounted: /mnt/tokyoolymics; nested exception is: \n\tjava.lang.IllegalArgumentException: requirement failed: Directory already mounted: /mnt/tokyoolymics\n\tat com.databricks.backend.daemon.data.client.DbfsClient.send0(DbfsClient.scala:135)\n\tat com.databricks.backend.daemon.data.client.DbfsClient.sendIdempotent(DbfsClient.scala:69)\n\tat com.databricks.backend.daemon.dbutils.DBUtilsCore.createOrUpdateMount(DBUtilsCore.scala:1057)\n\tat com.databricks.backend.daemon.dbutils.DBUtilsCore.$anonfun$mount$1(DBUtilsCore.scala:1083)\n\tat com.databricks.logging.UsageLogging.$anonfun$recordOperation$1(UsageLogging.scala:571)\n\tat com.databricks.logging.UsageLogging.executeThunkAndCaptureResultTags$1(UsageLogging.scala:666)\n\tat com.databricks.logging.UsageLogging.$anonfun$recordOperationWithResultTags$4(UsageLogging.scala:684)\n\tat com.databricks.logging.UsageLogging.$anonfun$withAttributionContext$1(UsageLogging.scala:426)\n\tat scala.util.DynamicVariable.withValue(DynamicVariable.scala:62)\n\tat com.databricks.logging.AttributionContext$.withValue(AttributionContext.scala:196)\n\tat com.databricks.logging.UsageLogging.withAttributionContext(UsageLogging.scala:424)\n\tat com.databricks.logging.UsageLogging.withAttributionContext$(UsageLogging.scala:418)\n\tat com.databricks.backend.daemon.dbutils.FSUtils.withAttributionContext(DBUtilsCore.scala:69)\n\tat com.databricks.logging.UsageLogging.withAttributionTags(UsageLogging.scala:470)\n\tat com.databricks.logging.UsageLogging.withAttributionTags$(UsageLogging.scala:455)\n\tat com.databricks.backend.daemon.dbutils.FSUtils.withAttributionTags(DBUtilsCore.scala:69)\n\tat com.databricks.logging.UsageLogging.recordOperationWithResultTags(UsageLogging.scala:661)\n\tat com.databricks.logging.UsageLogging.recordOperationWithResultTags$(UsageLogging.scala:580)\n\tat com.databricks.backend.daemon.dbutils.FSUtils.recordOperationWithResultTags(DBUtilsCore.scala:69)\n\tat com.databricks.logging.UsageLogging.recordOperation(UsageLogging.scala:571)\n\tat com.databricks.logging.UsageLogging.recordOperation$(UsageLogging.scala:540)\n\tat com.databricks.backend.daemon.dbutils.FSUtils.recordOperation(DBUtilsCore.scala:69)\n\tat com.databricks.backend.daemon.dbutils.FSUtils.recordDbutilsFsOp(DBUtilsCore.scala:133)\n\tat com.databricks.backend.daemon.dbutils.DBUtilsCore.mount(DBUtilsCore.scala:1077)\n\tat sun.reflect.NativeMethodAccessorImpl.invoke0(Native Method)\n\tat sun.reflect.NativeMethodAccessorImpl.invoke(NativeMethodAccessorImpl.java:62)\n\tat sun.reflect.DelegatingMethodAccessorImpl.invoke(DelegatingMethodAccessorImpl.java:43)\n\tat java.lang.reflect.Method.invoke(Method.java:498)\n\tat py4j.reflection.MethodInvoker.invoke(MethodInvoker.java:244)\n\tat py4j.reflection.ReflectionEngine.invoke(ReflectionEngine.java:397)\n\tat py4j.Gateway.invoke(Gateway.java:306)\n\tat py4j.commands.AbstractCommand.invokeMethod(AbstractCommand.java:132)\n\tat py4j.commands.CallCommand.execute(CallCommand.java:79)\n\tat py4j.ClientServerConnection.waitForCommands(ClientServerConnection.java:195)\n\tat py4j.ClientServerConnection.run(ClientServerConnection.java:115)\n\tat java.lang.Thread.run(Thread.java:750)\nCaused by: java.lang.IllegalArgumentException: requirement failed: Directory already mounted: /mnt/tokyoolymics\n\tat scala.Predef$.require(Predef.scala:281)\n\tat com.databricks.backend.daemon.data.server.DefaultMetadataManager.$anonfun$insertMount$1(MetadataManager.scala:601)\n\tat com.databricks.backend.daemon.data.server.DefaultMetadataManager.$anonfun$modifyAndVerify$2(MetadataManager.scala:977)\n\tat scala.runtime.java8.JFunction0$mcV$sp.apply(JFunction0$mcV$sp.java:23)\n\tat com.databricks.backend.daemon.data.server.DefaultMetadataManager.withRetries(MetadataManager.scala:750)\n\tat com.databricks.backend.daemon.data.server.DefaultMetadataManager.modifyAndVerify(MetadataManager.scala:966)\n\tat com.databricks.backend.daemon.data.server.DefaultMetadataManager.insertMount(MetadataManager.scala:609)\n\tat com.databricks.backend.daemon.data.server.handler.MountHandler.receive(MountHandler.scala:120)\n\tat com.databricks.backend.daemon.data.server.session.SessionContext.$anonfun$queryHandlers$1(SessionContext.scala:54)\n\tat com.databricks.backend.daemon.data.server.session.SessionContext.$anonfun$queryHandlers$1$adapted(SessionContext.scala:53)\n\tat scala.collection.immutable.List.foreach(List.scala:431)\n\tat com.databricks.backend.daemon.data.server.session.SessionContext.queryHandlers(SessionContext.scala:53)\n\tat com.databricks.backend.daemon.data.server.DbfsServerBackend$$anonfun$receive$4.$anonfun$applyOrElse$5(DbfsServerBackend.scala:386)\n\tat com.databricks.logging.UsageLogging.$anonfun$withAttributionContext$1(UsageLogging.scala:426)\n\tat scala.util.DynamicVariable.withValue(DynamicVariable.scala:62)\n\tat com.databricks.logging.AttributionContext$.withValue(AttributionContext.scala:216)\n\tat com.databricks.logging.UsageLogging.withAttributionContext(UsageLogging.scala:424)\n\tat com.databricks.logging.UsageLogging.withAttributionContext$(UsageLogging.scala:418)\n\tat com.databricks.rpc.ServerBackend.withAttributionContext(ServerBackend.scala:22)\n\tat com.databricks.logging.UsageLogging.withAttributionTags(UsageLogging.scala:472)\n\tat com.databricks.logging.UsageLogging.withAttributionTags$(UsageLogging.scala:455)\n\tat com.databricks.rpc.ServerBackend.withAttributionTags(ServerBackend.scala:22)\n\tat com.databricks.backend.daemon.data.server.DbfsServerBackend$$anonfun$receive$4.applyOrElse(DbfsServerBackend.scala:386)\n\tat com.databricks.backend.daemon.data.server.DbfsServerBackend$$anonfun$receive$4.applyOrElse(DbfsServerBackend.scala:332)\n\tat com.databricks.rpc.ServerBackend.$anonfun$internalReceive0$2(ServerBackend.scala:174)\n\tat com.databricks.rpc.ServerBackend$$anonfun$commonReceive$1.applyOrElse(ServerBackend.scala:200)\n\tat com.databricks.rpc.ServerBackend$$anonfun$commonReceive$1.applyOrElse(ServerBackend.scala:200)\n\tat com.databricks.rpc.ServerBackend.internalReceive0(ServerBackend.scala:171)\n\tat com.databricks.rpc.ServerBackend.$anonfun$internalReceive$1(ServerBackend.scala:147)\n\tat com.databricks.logging.UsageLogging.$anonfun$recordOperation$1(UsageLogging.scala:573)\n\tat com.databricks.logging.UsageLogging.executeThunkAndCaptureResultTags$1(UsageLogging.scala:668)\n\tat com.databricks.logging.UsageLogging.$anonfun$recordOperationWithResultTags$4(UsageLogging.scala:686)\n\tat com.databricks.logging.UsageLogging.$anonfun$withAttributionContext$1(UsageLogging.scala:426)\n\tat scala.util.DynamicVariable.withValue(DynamicVariable.scala:62)\n\tat com.databricks.logging.AttributionContext$.withValue(AttributionContext.scala:216)\n\tat com.databricks.logging.UsageLogging.withAttributionContext(UsageLogging.scala:424)\n\tat com.databricks.logging.UsageLogging.withAttributionContext$(UsageLogging.scala:418)\n\tat com.databricks.rpc.ServerBackend.withAttributionContext(ServerBackend.scala:22)\n\tat com.databricks.logging.UsageLogging.withAttributionTags(UsageLogging.scala:472)\n\tat com.databricks.logging.UsageLogging.withAttributionTags$(UsageLogging.scala:455)\n\tat com.databricks.rpc.ServerBackend.withAttributionTags(ServerBackend.scala:22)\n\tat com.databricks.logging.UsageLogging.recordOperationWithResultTags(UsageLogging.scala:663)\n\tat com.databricks.logging.UsageLogging.recordOperationWithResultTags$(UsageLogging.scala:582)\n\tat com.databricks.rpc.ServerBackend.recordOperationWithResultTags(ServerBackend.scala:22)\n\tat com.databricks.logging.UsageLogging.recordOperation(UsageLogging.scala:573)\n\tat com.databricks.logging.UsageLogging.recordOperation$(UsageLogging.scala:542)\n\tat com.databricks.rpc.ServerBackend.recordOperation(ServerBackend.scala:22)\n\tat com.databricks.rpc.ServerBackend.internalReceive(ServerBackend.scala:147)\n\tat com.databricks.rpc.JettyServer$RequestManager.handleRPC(JettyServer.scala:1020)\n\tat com.databricks.rpc.JettyServer$RequestManager.handleRequestAndRespond(JettyServer.scala:941)\n\tat com.databricks.rpc.JettyServer$RequestManager.$anonfun$handleHttp$6(JettyServer.scala:545)\n\tat com.databricks.rpc.JettyServer$RequestManager.$anonfun$handleHttp$6$adapted(JettyServer.scala:514)\n\tat com.databricks.logging.activity.ActivityContextFactory$.$anonfun$withActivityInternal$4(ActivityContextFactory.scala:402)\n\tat com.databricks.logging.UsageLogging.$anonfun$withAttributionContext$1(UsageLogging.scala:426)\n\tat scala.util.DynamicVariable.withValue(DynamicVariable.scala:62)\n\tat com.databricks.logging.AttributionContext$.withValue(AttributionContext.scala:216)\n\tat com.databricks.logging.UsageLogging.withAttributionContext(UsageLogging.scala:424)\n\tat com.databricks.logging.UsageLogging.withAttributionContext$(UsageLogging.scala:418)\n\tat com.databricks.logging.activity.ActivityContextFactory$.withAttributionContext(ActivityContextFactory.scala:56)\n\tat com.databricks.logging.activity.ActivityContextFactory$.$anonfun$withActivityInternal$1(ActivityContextFactory.scala:402)\n\tat com.databricks.context.integrity.IntegrityCheckContext$ThreadLocalStorage$.withValue(IntegrityCheckContext.scala:44)\n\tat com.databricks.logging.activity.ActivityContextFactory$.withActivityInternal(ActivityContextFactory.scala:377)\n\tat com.databricks.logging.activity.ActivityContextFactory$.withServiceRequestActivity(ActivityContextFactory.scala:157)\n\tat com.databricks.rpc.JettyServer$RequestManager.handleHttp(JettyServer.scala:514)\n\tat com.databricks.rpc.JettyServer$RequestManager.doPost(JettyServer.scala:404)\n\tat javax.servlet.http.HttpServlet.service(HttpServlet.java:665)\n\tat com.databricks.rpc.HttpServletWithPatch.service(HttpServletWithPatch.scala:33)\n\tat javax.servlet.http.HttpServlet.service(HttpServlet.java:750)\n\tat org.eclipse.jetty.servlet.ServletHolder.handle(ServletHolder.java:848)\n\tat org.eclipse.jetty.servlet.ServletHandler.doHandle(ServletHandler.java:585)\n\tat org.eclipse.jetty.servlet.ServletHandler.doScope(ServletHandler.java:515)\n\tat org.eclipse.jetty.server.handler.ScopedHandler.handle(ScopedHandler.java:141)\n\tat org.eclipse.jetty.server.handler.HandlerWrapper.handle(HandlerWrapper.java:134)\n\tat org.eclipse.jetty.server.Server.handle(Server.java:539)\n\tat org.eclipse.jetty.server.HttpChannel.handle(HttpChannel.java:333)\n\tat org.eclipse.jetty.server.HttpConnection.onFillable(HttpConnection.java:251)\n\tat org.eclipse.jetty.io.AbstractConnection$ReadCallback.succeeded(AbstractConnection.java:283)\n\tat org.eclipse.jetty.io.FillInterest.fillable(FillInterest.java:108)\n\tat org.eclipse.jetty.io.SelectChannelEndPoint$2.run(SelectChannelEndPoint.java:93)\n\tat org.eclipse.jetty.util.thread.strategy.ExecuteProduceConsume.executeProduceConsume(ExecuteProduceConsume.java:303)\n\tat org.eclipse.jetty.util.thread.strategy.ExecuteProduceConsume.produceConsume(ExecuteProduceConsume.java:148)\n\tat org.eclipse.jetty.util.thread.strategy.ExecuteProduceConsume.run(ExecuteProduceConsume.java:136)\n\tat com.databricks.rpc.InstrumentedQueuedThreadPool$$anon$1.$anonfun$run$1(InstrumentedQueuedThreadPool.scala:81)\n\tat scala.runtime.java8.JFunction0$mcV$sp.apply(JFunction0$mcV$sp.java:23)\n\tat com.databricks.instrumentation.QueuedThreadPoolInstrumenter.trackActiveThreads(QueuedThreadPoolInstrumenter.scala:66)\n\tat com.databricks.instrumentation.QueuedThreadPoolInstrumenter.trackActiveThreads$(QueuedThreadPoolInstrumenter.scala:63)\n\tat com.databricks.rpc.InstrumentedQueuedThreadPool.trackActiveThreads(InstrumentedQueuedThreadPool.scala:47)\n\tat com.databricks.rpc.InstrumentedQueuedThreadPool$$anon$1.run(InstrumentedQueuedThreadPool.scala:76)\n\tat org.eclipse.jetty.util.thread.QueuedThreadPool.runJob(QueuedThreadPool.java:671)\n\tat org.eclipse.jetty.util.thread.QueuedThreadPool$2.run(QueuedThreadPool.java:589)\n\t... 1 more\n",
       "errorSummary": "java.rmi.RemoteException: java.lang.IllegalArgumentException: requirement failed: Directory already mounted: /mnt/tokyoolymics; nested exception is: ",
       "errorTraceType": "ansi",
       "metadata": {},
       "type": "ipynbError"
      }
     },
     "output_type": "display_data"
    }
   ],
   "source": [
    "configs = {\"fs.azure.account.auth.type\": \"OAuth\",\n",
    "\"fs.azure.account.oauth.provider.type\": \"org.apache.hadoop.fs.azurebfs.oauth2.ClientCredsTokenProvider\",\n",
    "\"fs.azure.account.oauth2.client.id\": \"{clientId}\",\n",
    "\"fs.azure.account.oauth2.client.secret\": '{secretKey}',\n",
    "\"fs.azure.account.oauth2.client.endpoint\": \"https://login.microsoftonline.com/{tenantId}/oauth2/token\"}\n",
    "\n",
    "\n",
    "dbutils.fs.mount(\n",
    "source = \"abfss://tokyo-olympics-data@olympicsdataeng2023.dfs.core.windows.net\", # container@storageaccount\n",
    "mount_point = \"/mnt/tokyoolymics\",\n",
    "extra_configs = configs)\n",
    "  \n"
   ]
  },
  {
   "cell_type": "code",
   "execution_count": 0,
   "metadata": {
    "application/vnd.databricks.v1+cell": {
     "cellMetadata": {
      "byteLimit": 2048000,
      "rowLimit": 10000
     },
     "inputWidgets": {},
     "nuid": "6b1e2a1e-2f66-4dcf-b7c7-a386abd05afa",
     "showTitle": false,
     "title": ""
    }
   },
   "outputs": [
    {
     "output_type": "display_data",
     "data": {
      "text/html": [
       "<style scoped>\n",
       "  .table-result-container {\n",
       "    max-height: 300px;\n",
       "    overflow: auto;\n",
       "  }\n",
       "  table, th, td {\n",
       "    border: 1px solid black;\n",
       "    border-collapse: collapse;\n",
       "  }\n",
       "  th, td {\n",
       "    padding: 5px;\n",
       "  }\n",
       "  th {\n",
       "    text-align: left;\n",
       "  }\n",
       "</style><div class='table-result-container'><table class='table-result'><thead style='background-color: white'><tr><th>path</th><th>name</th><th>size</th><th>modificationTime</th></tr></thead><tbody><tr><td>dbfs:/mnt/tokyoolymics/raw-data/</td><td>raw-data/</td><td>0</td><td>1699405143000</td></tr><tr><td>dbfs:/mnt/tokyoolymics/transformed-data/</td><td>transformed-data/</td><td>0</td><td>1699405152000</td></tr></tbody></table></div>"
      ]
     },
     "metadata": {
      "application/vnd.databricks.v1+output": {
       "addedWidgets": {},
       "aggData": [],
       "aggError": "",
       "aggOverflow": false,
       "aggSchema": [],
       "aggSeriesLimitReached": false,
       "aggType": "",
       "arguments": {},
       "columnCustomDisplayInfos": {},
       "data": [
        [
         "dbfs:/mnt/tokyoolymics/raw-data/",
         "raw-data/",
         0,
         1699405143000
        ],
        [
         "dbfs:/mnt/tokyoolymics/transformed-data/",
         "transformed-data/",
         0,
         1699405152000
        ]
       ],
       "datasetInfos": [],
       "dbfsResultPath": null,
       "isJsonSchema": true,
       "metadata": {
        "isDbfsCommandResult": false
       },
       "overflow": false,
       "plotOptions": {
        "customPlotOptions": {},
        "displayType": "table",
        "pivotAggregation": null,
        "pivotColumns": null,
        "xColumns": null,
        "yColumns": null
       },
       "removedWidgets": [],
       "schema": [
        {
         "metadata": "{}",
         "name": "path",
         "type": "\"string\""
        },
        {
         "metadata": "{}",
         "name": "name",
         "type": "\"string\""
        },
        {
         "metadata": "{}",
         "name": "size",
         "type": "\"long\""
        },
        {
         "metadata": "{}",
         "name": "modificationTime",
         "type": "\"long\""
        }
       ],
       "type": "table"
      }
     },
     "output_type": "display_data"
    }
   ],
   "source": [
    "%fs\n",
    "ls \"mnt/tokyoolymics\""
   ]
  },
  {
   "cell_type": "code",
   "execution_count": 0,
   "metadata": {
    "application/vnd.databricks.v1+cell": {
     "cellMetadata": {
      "byteLimit": 2048000,
      "rowLimit": 10000
     },
     "inputWidgets": {},
     "nuid": "d5eaf7f3-8853-4e72-a460-ee0efb42f867",
     "showTitle": false,
     "title": ""
    }
   },
   "outputs": [],
   "source": [
    "athletes = spark.read.format(\"csv\").option(\"header\", \"true\").option(\"inferSchema\", \"true\").load(\"/mnt/tokyoolymics/raw-data/athletes.csv\")\n",
    "coaches = spark.read.format(\"csv\").option(\"header\", \"true\").option(\"inferSchema\", \"true\").load(\"/mnt/tokyoolymics/raw-data/coaches.csv\")\n",
    "entriesGender = spark.read.format(\"csv\").option(\"header\", \"true\").option(\"inferSchema\", \"true\").load(\"/mnt/tokyoolymics/raw-data/entriesGender.csv\")\n",
    "medals = spark.read.format(\"csv\").option(\"header\", \"true\").option(\"inferSchema\", \"true\").load(\"/mnt/tokyoolymics/raw-data/medals.csv\")\n",
    "teams = spark.read.format(\"csv\").option(\"header\", \"true\").option(\"inferSchema\", \"true\").load(\"/mnt/tokyoolymics/raw-data/teams.csv\")\n"
   ]
  },
  {
   "cell_type": "code",
   "execution_count": 0,
   "metadata": {
    "application/vnd.databricks.v1+cell": {
     "cellMetadata": {
      "byteLimit": 2048000,
      "rowLimit": 10000
     },
     "inputWidgets": {},
     "nuid": "945ccede-7ad6-4297-aa25-14d95763dca8",
     "showTitle": false,
     "title": ""
    }
   },
   "outputs": [
    {
     "output_type": "stream",
     "name": "stdout",
     "output_type": "stream",
     "text": [
      "+--------------------+--------------------+-------------------+\n|          PersonName|             Country|         Discipline|\n+--------------------+--------------------+-------------------+\n|     AALERUD Katrine|              Norway|       Cycling Road|\n|         ABAD Nestor|               Spain|Artistic Gymnastics|\n|   ABAGNALE Giovanni|               Italy|             Rowing|\n|      ABALDE Alberto|               Spain|         Basketball|\n|       ABALDE Tamara|               Spain|         Basketball|\n|           ABALO Luc|              France|           Handball|\n|        ABAROA Cesar|               Chile|             Rowing|\n|       ABASS Abobakr|               Sudan|           Swimming|\n|    ABBASALI Hamideh|Islamic Republic ...|             Karate|\n|       ABBASOV Islam|          Azerbaijan|          Wrestling|\n|        ABBINGH Lois|         Netherlands|           Handball|\n|         ABBOT Emily|           Australia|Rhythmic Gymnastics|\n|       ABBOTT Monica|United States of ...|  Baseball/Softball|\n|ABDALLA Abubaker ...|               Qatar|          Athletics|\n|      ABDALLA Maryam|               Egypt|  Artistic Swimming|\n|      ABDALLAH Shahd|               Egypt|  Artistic Swimming|\n| ABDALRASOOL Mohamed|               Sudan|               Judo|\n|   ABDEL LATIF Radwa|               Egypt|           Shooting|\n|    ABDEL RAZEK Samy|               Egypt|           Shooting|\n|   ABDELAZIZ Abdalla|               Egypt|             Karate|\n+--------------------+--------------------+-------------------+\nonly showing top 20 rows\n\n"
     ]
    }
   ],
   "source": [
    "athletes.show()"
   ]
  },
  {
   "cell_type": "code",
   "execution_count": 0,
   "metadata": {
    "application/vnd.databricks.v1+cell": {
     "cellMetadata": {
      "byteLimit": 2048000,
      "rowLimit": 10000
     },
     "inputWidgets": {},
     "nuid": "6f35d250-05ea-4f4a-952c-05daa01b6708",
     "showTitle": false,
     "title": ""
    }
   },
   "outputs": [
    {
     "output_type": "stream",
     "name": "stdout",
     "output_type": "stream",
     "text": [
      "root\n |-- PersonName: string (nullable = true)\n |-- Country: string (nullable = true)\n |-- Discipline: string (nullable = true)\n\n"
     ]
    }
   ],
   "source": [
    "athletes.printSchema()"
   ]
  },
  {
   "cell_type": "code",
   "execution_count": 0,
   "metadata": {
    "application/vnd.databricks.v1+cell": {
     "cellMetadata": {
      "byteLimit": 2048000,
      "rowLimit": 10000
     },
     "inputWidgets": {},
     "nuid": "0965155c-54e4-4379-b34e-8d23d93ca6d8",
     "showTitle": false,
     "title": ""
    }
   },
   "outputs": [
    {
     "output_type": "stream",
     "name": "stdout",
     "output_type": "stream",
     "text": [
      "+--------------------+--------------------+-----------------+--------+\n|                Name|             Country|       Discipline|   Event|\n+--------------------+--------------------+-----------------+--------+\n|     ABDELMAGID Wael|               Egypt|         Football|    NULL|\n|           ABE Junya|               Japan|       Volleyball|    NULL|\n|       ABE Katsuhiko|               Japan|       Basketball|    NULL|\n|        ADAMA Cherif|       C�te d'Ivoire|         Football|    NULL|\n|          AGEBA Yuya|               Japan|       Volleyball|    NULL|\n|AIKMAN Siegfried ...|               Japan|           Hockey|     Men|\n|       AL SAADI Kais|             Germany|           Hockey|     Men|\n|       ALAMEDA Lonni|              Canada|Baseball/Softball|Softball|\n|     ALEKNO Vladimir|Islamic Republic ...|       Volleyball|     Men|\n|     ALEKSEEV Alexey|                 ROC|         Handball|   Women|\n|ALLER CARBALLO Ma...|               Spain|       Basketball|    NULL|\n|       ALSHEHRI Saad|        Saudi Arabia|         Football|     Men|\n|           ALY Kamal|               Egypt|         Football|    NULL|\n| AMAYA GAITAN Fabian|         Puerto Rico|       Basketball|    NULL|\n|    AMO AGUADO Pablo|               Spain|         Football|    NULL|\n|   ANDONOVSKI Vlatko|United States of ...|         Football|   Women|\n|        ANNAN Alyson|         Netherlands|           Hockey|   Women|\n|  ARNAU CREUS Xavier|               Japan|           Hockey|   Women|\n|       ARNOLD Graham|           Australia|         Football|     Men|\n|         AXNER Tomas|              Sweden|         Handball|   Women|\n+--------------------+--------------------+-----------------+--------+\nonly showing top 20 rows\n\n"
     ]
    }
   ],
   "source": [
    "coaches.show()"
   ]
  },
  {
   "cell_type": "code",
   "execution_count": 0,
   "metadata": {
    "application/vnd.databricks.v1+cell": {
     "cellMetadata": {
      "byteLimit": 2048000,
      "rowLimit": 10000
     },
     "inputWidgets": {},
     "nuid": "27fee99c-16cc-4909-8c0b-2c0bad2060f0",
     "showTitle": false,
     "title": ""
    }
   },
   "outputs": [
    {
     "output_type": "stream",
     "name": "stdout",
     "output_type": "stream",
     "text": [
      "root\n |-- Name: string (nullable = true)\n |-- Country: string (nullable = true)\n |-- Discipline: string (nullable = true)\n |-- Event: string (nullable = true)\n\n"
     ]
    }
   ],
   "source": [
    "coaches.printSchema()"
   ]
  },
  {
   "cell_type": "code",
   "execution_count": 0,
   "metadata": {
    "application/vnd.databricks.v1+cell": {
     "cellMetadata": {
      "byteLimit": 2048000,
      "rowLimit": 10000
     },
     "inputWidgets": {},
     "nuid": "5dd2c200-d293-4a91-bff5-87a0486ac14f",
     "showTitle": false,
     "title": ""
    }
   },
   "outputs": [
    {
     "output_type": "stream",
     "name": "stdout",
     "output_type": "stream",
     "text": [
      "+--------------------+------+----+-----+\n|          Discipline|Female|Male|Total|\n+--------------------+------+----+-----+\n|      3x3 Basketball|    32|  32|   64|\n|             Archery|    64|  64|  128|\n| Artistic Gymnastics|    98|  98|  196|\n|   Artistic Swimming|   105|   0|  105|\n|           Athletics|   969|1072| 2041|\n|           Badminton|    86|  87|  173|\n|   Baseball/Softball|    90| 144|  234|\n|          Basketball|   144| 144|  288|\n|    Beach Volleyball|    48|  48|   96|\n|              Boxing|   102| 187|  289|\n|        Canoe Slalom|    41|  41|   82|\n|        Canoe Sprint|   123| 126|  249|\n|Cycling BMX Frees...|    10|   9|   19|\n|  Cycling BMX Racing|    24|  24|   48|\n|Cycling Mountain ...|    38|  38|   76|\n|        Cycling Road|    70| 131|  201|\n|       Cycling Track|    90|  99|  189|\n|              Diving|    72|  71|  143|\n|          Equestrian|    73| 125|  198|\n|             Fencing|   107| 108|  215|\n+--------------------+------+----+-----+\nonly showing top 20 rows\n\n"
     ]
    }
   ],
   "source": [
    "entriesGender.show()"
   ]
  },
  {
   "cell_type": "code",
   "execution_count": 0,
   "metadata": {
    "application/vnd.databricks.v1+cell": {
     "cellMetadata": {
      "byteLimit": 2048000,
      "rowLimit": 10000
     },
     "inputWidgets": {},
     "nuid": "cd10fdfe-741b-4aab-a009-2ddeca5ee2dd",
     "showTitle": false,
     "title": ""
    }
   },
   "outputs": [
    {
     "output_type": "stream",
     "name": "stdout",
     "output_type": "stream",
     "text": [
      "root\n |-- Discipline: string (nullable = true)\n |-- Female: integer (nullable = true)\n |-- Male: integer (nullable = true)\n |-- Total: integer (nullable = true)\n\n"
     ]
    }
   ],
   "source": [
    "entriesGender.printSchema()"
   ]
  },
  {
   "cell_type": "code",
   "execution_count": 0,
   "metadata": {
    "application/vnd.databricks.v1+cell": {
     "cellMetadata": {
      "byteLimit": 2048000,
      "rowLimit": 10000
     },
     "inputWidgets": {},
     "nuid": "bb5cf500-3d3a-4360-b24c-8c558515ab43",
     "showTitle": false,
     "title": ""
    }
   },
   "outputs": [],
   "source": [
    "# entriesGender = entriesGender.withColumn(\"Female\", col(\"Female\").cast(IntegerType())) \\\n",
    "#     .withColumn(\"Male\", col(\"Male\").cast(IntegerType()))\\\n",
    "#         .withColumn(\"Total\", col(\"Total\").cast(IntegerType())) #if we don't use option(\"inferSchema\", \"true\")"
   ]
  },
  {
   "cell_type": "code",
   "execution_count": 0,
   "metadata": {
    "application/vnd.databricks.v1+cell": {
     "cellMetadata": {
      "byteLimit": 2048000,
      "rowLimit": 10000
     },
     "inputWidgets": {},
     "nuid": "a1c9657b-5075-42b0-9b06-e9d878d62406",
     "showTitle": false,
     "title": ""
    }
   },
   "outputs": [
    {
     "output_type": "stream",
     "name": "stdout",
     "output_type": "stream",
     "text": [
      "+----+--------------------+----+------+------+-----+-------------+\n|Rank|        Team_Country|Gold|Silver|Bronze|Total|Rank by Total|\n+----+--------------------+----+------+------+-----+-------------+\n|   1|United States of ...|  39|    41|    33|  113|            1|\n|   2|People's Republic...|  38|    32|    18|   88|            2|\n|   3|               Japan|  27|    14|    17|   58|            5|\n|   4|       Great Britain|  22|    21|    22|   65|            4|\n|   5|                 ROC|  20|    28|    23|   71|            3|\n|   6|           Australia|  17|     7|    22|   46|            6|\n|   7|         Netherlands|  10|    12|    14|   36|            9|\n|   8|              France|  10|    12|    11|   33|           10|\n|   9|             Germany|  10|    11|    16|   37|            8|\n|  10|               Italy|  10|    10|    20|   40|            7|\n|  11|              Canada|   7|     6|    11|   24|           11|\n|  12|              Brazil|   7|     6|     8|   21|           12|\n|  13|         New Zealand|   7|     6|     7|   20|           13|\n|  14|                Cuba|   7|     3|     5|   15|           18|\n|  15|             Hungary|   6|     7|     7|   20|           13|\n|  16|   Republic of Korea|   6|     4|    10|   20|           13|\n|  17|              Poland|   4|     5|     5|   14|           19|\n|  18|      Czech Republic|   4|     4|     3|   11|           23|\n|  19|               Kenya|   4|     4|     2|   10|           25|\n|  20|              Norway|   4|     2|     2|    8|           29|\n+----+--------------------+----+------+------+-----+-------------+\nonly showing top 20 rows\n\n"
     ]
    }
   ],
   "source": [
    "medals.show()"
   ]
  },
  {
   "cell_type": "code",
   "execution_count": 0,
   "metadata": {
    "application/vnd.databricks.v1+cell": {
     "cellMetadata": {
      "byteLimit": 2048000,
      "rowLimit": 10000
     },
     "inputWidgets": {},
     "nuid": "24f9f65c-a55a-441d-8f1c-096996700e3f",
     "showTitle": false,
     "title": ""
    }
   },
   "outputs": [
    {
     "output_type": "stream",
     "name": "stdout",
     "output_type": "stream",
     "text": [
      "root\n |-- Rank: integer (nullable = true)\n |-- Team_Country: string (nullable = true)\n |-- Gold: integer (nullable = true)\n |-- Silver: integer (nullable = true)\n |-- Bronze: integer (nullable = true)\n |-- Total: integer (nullable = true)\n |-- Rank by Total: integer (nullable = true)\n\n"
     ]
    }
   ],
   "source": [
    "medals.printSchema()"
   ]
  },
  {
   "cell_type": "code",
   "execution_count": 0,
   "metadata": {
    "application/vnd.databricks.v1+cell": {
     "cellMetadata": {
      "byteLimit": 2048000,
      "rowLimit": 10000
     },
     "inputWidgets": {},
     "nuid": "19c96cbe-587f-4f61-a10f-97dcd98f0ade",
     "showTitle": false,
     "title": ""
    }
   },
   "outputs": [
    {
     "output_type": "stream",
     "name": "stdout",
     "output_type": "stream",
     "text": [
      "+-------------+--------------+--------------------+------------+\n|     TeamName|    Discipline|             Country|       Event|\n+-------------+--------------+--------------------+------------+\n|      Belgium|3x3 Basketball|             Belgium|         Men|\n|        China|3x3 Basketball|People's Republic...|         Men|\n|        China|3x3 Basketball|People's Republic...|       Women|\n|       France|3x3 Basketball|              France|       Women|\n|        Italy|3x3 Basketball|               Italy|       Women|\n|        Japan|3x3 Basketball|               Japan|         Men|\n|        Japan|3x3 Basketball|               Japan|       Women|\n|       Latvia|3x3 Basketball|              Latvia|         Men|\n|     Mongolia|3x3 Basketball|            Mongolia|       Women|\n|  Netherlands|3x3 Basketball|         Netherlands|         Men|\n|       Poland|3x3 Basketball|              Poland|         Men|\n|          ROC|3x3 Basketball|                 ROC|         Men|\n|          ROC|3x3 Basketball|                 ROC|       Women|\n|      Romania|3x3 Basketball|             Romania|       Women|\n|       Serbia|3x3 Basketball|              Serbia|         Men|\n|United States|3x3 Basketball|United States of ...|       Women|\n|    Australia|       Archery|           Australia|  Men's Team|\n|    Australia|       Archery|           Australia|  Mixed Team|\n|   Bangladesh|       Archery|          Bangladesh|  Mixed Team|\n|      Belarus|       Archery|             Belarus|Women's Team|\n+-------------+--------------+--------------------+------------+\nonly showing top 20 rows\n\n"
     ]
    }
   ],
   "source": [
    "teams.show()"
   ]
  },
  {
   "cell_type": "code",
   "execution_count": 0,
   "metadata": {
    "application/vnd.databricks.v1+cell": {
     "cellMetadata": {
      "byteLimit": 2048000,
      "rowLimit": 10000
     },
     "inputWidgets": {},
     "nuid": "fed05ca6-d1c7-4c62-8881-b1849f9ebf84",
     "showTitle": false,
     "title": ""
    }
   },
   "outputs": [
    {
     "output_type": "stream",
     "name": "stdout",
     "output_type": "stream",
     "text": [
      "root\n |-- TeamName: string (nullable = true)\n |-- Discipline: string (nullable = true)\n |-- Country: string (nullable = true)\n |-- Event: string (nullable = true)\n\n"
     ]
    }
   ],
   "source": [
    "teams.printSchema()"
   ]
  },
  {
   "cell_type": "markdown",
   "metadata": {
    "application/vnd.databricks.v1+cell": {
     "cellMetadata": {
      "byteLimit": 2048000,
      "rowLimit": 10000
     },
     "inputWidgets": {},
     "nuid": "17c2e5bf-e333-4304-8928-958f8056315b",
     "showTitle": false,
     "title": ""
    }
   },
   "source": [
    "Load the transformed data into Data Lake Gen 2 storage to be used for analysis."
   ]
  },
  {
   "cell_type": "code",
   "execution_count": 0,
   "metadata": {
    "application/vnd.databricks.v1+cell": {
     "cellMetadata": {
      "byteLimit": 2048000,
      "rowLimit": 10000
     },
     "inputWidgets": {},
     "nuid": "b8fb4c4b-6b72-4f41-a23d-9f382590fa26",
     "showTitle": false,
     "title": ""
    }
   },
   "outputs": [],
   "source": [
    "athletes.repartition(1).write.mode('overwrite').option(\"header\", \"true\").csv(\"/mnt/tokyoolymics/transformed-data/athletes\")\n",
    "coaches.repartition(1).write.mode('overwrite').option(\"header\", \"true\").csv(\"/mnt/tokyoolymics/transformed-data/coaches\")\n",
    "entriesGender.repartition(1).write.mode('overwrite').option(\"header\", \"true\").csv(\"/mnt/tokyoolymics/transformed-data/entriesGender\")\n",
    "medals.repartition(1).write.mode('overwrite').option(\"header\", \"true\").csv(\"/mnt/tokyoolymics/transformed-data/medals\")\n",
    "teams.repartition(1).write.mode('overwrite').option(\"header\", \"true\").csv(\"/mnt/tokyoolymics/transformed-data/teams\")"
   ]
  },
  {
   "cell_type": "markdown",
   "metadata": {
    "application/vnd.databricks.v1+cell": {
     "cellMetadata": {
      "byteLimit": 2048000,
      "rowLimit": 10000
     },
     "inputWidgets": {},
     "nuid": "746dac11-dab0-4e61-a97b-5b5d11299e29",
     "showTitle": false,
     "title": ""
    }
   },
   "source": [
    "Data Analysis using PySpark "
   ]
  },
  {
   "cell_type": "code",
   "execution_count": 0,
   "metadata": {
    "application/vnd.databricks.v1+cell": {
     "cellMetadata": {
      "byteLimit": 2048000,
      "rowLimit": 10000
     },
     "inputWidgets": {},
     "nuid": "d12b05ee-b8c7-4a4b-be97-45e1562df4e1",
     "showTitle": false,
     "title": ""
    }
   },
   "outputs": [
    {
     "output_type": "stream",
     "name": "stdout",
     "output_type": "stream",
     "text": [
      "+--------------------+------+----+-----+-----------------+------------------+\n|          Discipline|Female|Male|Total|        M2F_Ratio|         F2M_Ratio|\n+--------------------+------+----+-----+-----------------+------------------+\n|Cycling BMX Frees...|    10|   9|   19|             90.0|111.11111111111111|\n|              Diving|    72|  71|  143|98.61111111111111|101.40845070422534|\n|Cycling Mountain ...|    38|  38|   76|            100.0|             100.0|\n| Artistic Gymnastics|    98|  98|  196|            100.0|             100.0|\n|             Archery|    64|  64|  128|            100.0|             100.0|\n|  Cycling BMX Racing|    24|  24|   48|            100.0|             100.0|\n|    Beach Volleyball|    48|  48|   96|            100.0|             100.0|\n|        Canoe Slalom|    41|  41|   82|            100.0|             100.0|\n|          Basketball|   144| 144|  288|            100.0|             100.0|\n|      3x3 Basketball|    32|  32|   64|            100.0|             100.0|\n|       Skateboarding|    40|  40|   80|            100.0|             100.0|\n|   Marathon Swimming|    25|  25|   50|            100.0|             100.0|\n|            Handball|   168| 168|  336|            100.0|             100.0|\n|                Golf|    60|  60|  120|            100.0|             100.0|\n|      Sport Climbing|    20|  20|   40|            100.0|             100.0|\n|              Hockey|   192| 192|  384|            100.0|             100.0|\n|             Surfing|    20|  20|   40|            100.0|             100.0|\n|   Modern Pentathlon|    36|  36|   72|            100.0|             100.0|\n|             Sailing|   175| 175|  350|            100.0|             100.0|\n|            Shooting|   178| 178|  356|            100.0|             100.0|\n+--------------------+------+----+-----+-----------------+------------------+\nonly showing top 20 rows\n\n"
     ]
    }
   ],
   "source": [
    "#calculate the gender ratio in each discipline\n",
    "gender_ratio_each_discipline = entriesGender.withColumn(\n",
    "    \"M2F_Ratio\", (entriesGender[\"Male\"]/entriesGender[\"Female\"]) * 100\n",
    ").withColumn(\n",
    "    \"F2M_Ratio\", (entriesGender[\"Female\"]/entriesGender[\"Male\"]) * 100\n",
    ")\n",
    "ratio = gender_ratio_each_discipline.orderBy(\"F2M_Ratio\", ascending = False).show()"
   ]
  },
  {
   "cell_type": "markdown",
   "metadata": {
    "application/vnd.databricks.v1+cell": {
     "cellMetadata": {
      "byteLimit": 2048000,
      "rowLimit": 10000
     },
     "inputWidgets": {},
     "nuid": "509e86f6-e876-4411-baa8-9628ba9415fd",
     "showTitle": false,
     "title": ""
    }
   },
   "source": [
    "Data Analysis using Pandas"
   ]
  },
  {
   "cell_type": "code",
   "execution_count": 0,
   "metadata": {
    "application/vnd.databricks.v1+cell": {
     "cellMetadata": {
      "byteLimit": 2048000,
      "rowLimit": 10000
     },
     "inputWidgets": {},
     "nuid": "314f3116-67be-4c17-831f-8e5c84a46d48",
     "showTitle": false,
     "title": ""
    }
   },
   "outputs": [],
   "source": [
    "import pandas as pd\n",
    "\n",
    "# Read the CSV file into a pandas DataFrame\n",
    "def read_csv_file_with_encoding(file_path):\n",
    "    try:\n",
    "        return pd.read_csv(file_path, encoding='ISO-8859-1')\n",
    "    except UnicodeDecodeError:\n",
    "        try:\n",
    "            return pd.read_csv(file_path, encoding='cp1252')\n",
    "        except UnicodeDecodeError:\n",
    "            return pd.read_csv(file_path, encoding='latin1')\n",
    "\n",
    "file_paths = ['/dbfs/mnt/tokyoolymics/raw-data/athletes.csv', '/dbfs/mnt/tokyoolymics/raw-data/coaches.csv',\n",
    "              '/dbfs/mnt/tokyoolymics/raw-data/entriesGender.csv', '/dbfs/mnt/tokyoolymics/raw-data/medals.csv', \n",
    "              '/dbfs/mnt/tokyoolymics/raw-data/teams.csv']\n",
    "\n",
    "dataframes = {}\n",
    "for path in file_paths:\n",
    "    #use regex to extract filename from the filepaths\n",
    "    key = path.split(\"/\")[-1].split(\".\")[0]\n",
    "    dataframes[key] = read_csv_file_with_encoding(path)\n",
    "\n",
    "athletes_df = dataframes[\"athletes\"]\n",
    "coaches_df = dataframes[\"coaches\"]\n",
    "entriesGender_df = dataframes[\"entriesGender\"]\n",
    "medals_df = dataframes[\"medals\"]\n",
    "teams_df = dataframes[\"teams\"]\n",
    "\n"
   ]
  },
  {
   "cell_type": "code",
   "execution_count": 0,
   "metadata": {
    "application/vnd.databricks.v1+cell": {
     "cellMetadata": {
      "byteLimit": 2048000,
      "rowLimit": 10000
     },
     "inputWidgets": {},
     "nuid": "2dcfb95c-8585-43e1-a1a7-5df27387537b",
     "showTitle": false,
     "title": ""
    }
   },
   "outputs": [
    {
     "output_type": "execute_result",
     "data": {
      "text/html": [
       "<div>\n",
       "<style scoped>\n",
       "    .dataframe tbody tr th:only-of-type {\n",
       "        vertical-align: middle;\n",
       "    }\n",
       "\n",
       "    .dataframe tbody tr th {\n",
       "        vertical-align: top;\n",
       "    }\n",
       "\n",
       "    .dataframe thead th {\n",
       "        text-align: right;\n",
       "    }\n",
       "</style>\n",
       "<table border=\"1\" class=\"dataframe\">\n",
       "  <thead>\n",
       "    <tr style=\"text-align: right;\">\n",
       "      <th></th>\n",
       "      <th>PersonName</th>\n",
       "      <th>Country</th>\n",
       "      <th>Discipline</th>\n",
       "    </tr>\n",
       "  </thead>\n",
       "  <tbody>\n",
       "    <tr>\n",
       "      <th>0</th>\n",
       "      <td>AALERUD Katrine</td>\n",
       "      <td>Norway</td>\n",
       "      <td>Cycling Road</td>\n",
       "    </tr>\n",
       "    <tr>\n",
       "      <th>1</th>\n",
       "      <td>ABAD Nestor</td>\n",
       "      <td>Spain</td>\n",
       "      <td>Artistic Gymnastics</td>\n",
       "    </tr>\n",
       "    <tr>\n",
       "      <th>2</th>\n",
       "      <td>ABAGNALE Giovanni</td>\n",
       "      <td>Italy</td>\n",
       "      <td>Rowing</td>\n",
       "    </tr>\n",
       "    <tr>\n",
       "      <th>3</th>\n",
       "      <td>ABALDE Alberto</td>\n",
       "      <td>Spain</td>\n",
       "      <td>Basketball</td>\n",
       "    </tr>\n",
       "    <tr>\n",
       "      <th>4</th>\n",
       "      <td>ABALDE Tamara</td>\n",
       "      <td>Spain</td>\n",
       "      <td>Basketball</td>\n",
       "    </tr>\n",
       "    <tr>\n",
       "      <th>...</th>\n",
       "      <td>...</td>\n",
       "      <td>...</td>\n",
       "      <td>...</td>\n",
       "    </tr>\n",
       "    <tr>\n",
       "      <th>11080</th>\n",
       "      <td>ZWICKER Martin Detlef</td>\n",
       "      <td>Germany</td>\n",
       "      <td>Hockey</td>\n",
       "    </tr>\n",
       "    <tr>\n",
       "      <th>11081</th>\n",
       "      <td>ZWOLINSKA Klaudia</td>\n",
       "      <td>Poland</td>\n",
       "      <td>Canoe Slalom</td>\n",
       "    </tr>\n",
       "    <tr>\n",
       "      <th>11082</th>\n",
       "      <td>ZYKOVA Yulia</td>\n",
       "      <td>ROC</td>\n",
       "      <td>Shooting</td>\n",
       "    </tr>\n",
       "    <tr>\n",
       "      <th>11083</th>\n",
       "      <td>ZYUZINA Ekaterina</td>\n",
       "      <td>ROC</td>\n",
       "      <td>Sailing</td>\n",
       "    </tr>\n",
       "    <tr>\n",
       "      <th>11084</th>\n",
       "      <td>ZYZANSKA Sylwia</td>\n",
       "      <td>Poland</td>\n",
       "      <td>Archery</td>\n",
       "    </tr>\n",
       "  </tbody>\n",
       "</table>\n",
       "<p>11085 rows × 3 columns</p>\n",
       "</div>"
      ],
      "text/plain": [
       "                  PersonName  Country           Discipline\n",
       "0            AALERUD Katrine   Norway         Cycling Road\n",
       "1                ABAD Nestor    Spain  Artistic Gymnastics\n",
       "2          ABAGNALE Giovanni    Italy               Rowing\n",
       "3             ABALDE Alberto    Spain           Basketball\n",
       "4              ABALDE Tamara    Spain           Basketball\n",
       "...                      ...      ...                  ...\n",
       "11080  ZWICKER Martin Detlef  Germany               Hockey\n",
       "11081      ZWOLINSKA Klaudia   Poland         Canoe Slalom\n",
       "11082           ZYKOVA Yulia      ROC             Shooting\n",
       "11083      ZYUZINA Ekaterina      ROC              Sailing\n",
       "11084        ZYZANSKA Sylwia   Poland              Archery\n",
       "\n",
       "[11085 rows x 3 columns]"
      ]
     },
     "execution_count": 16,
     "metadata": {},
     "output_type": "execute_result"
    }
   ],
   "source": [
    "athletes_df"
   ]
  },
  {
   "cell_type": "markdown",
   "metadata": {
    "application/vnd.databricks.v1+cell": {
     "cellMetadata": {
      "byteLimit": 2048000,
      "rowLimit": 10000
     },
     "inputWidgets": {},
     "nuid": "a02e6a28-0490-4723-8a9f-1ac14623e1df",
     "showTitle": false,
     "title": ""
    }
   },
   "source": [
    "Calculate the relation between number of participants and number of medals won (Gold, Silver, Bronze)"
   ]
  },
  {
   "cell_type": "code",
   "execution_count": 0,
   "metadata": {
    "application/vnd.databricks.v1+cell": {
     "cellMetadata": {
      "byteLimit": 2048000,
      "rowLimit": 10000
     },
     "inputWidgets": {},
     "nuid": "572198aa-b507-4e67-93a9-1bfb201e406f",
     "showTitle": false,
     "title": ""
    }
   },
   "outputs": [
    {
     "output_type": "execute_result",
     "data": {
      "text/html": [
       "<div>\n",
       "<style scoped>\n",
       "    .dataframe tbody tr th:only-of-type {\n",
       "        vertical-align: middle;\n",
       "    }\n",
       "\n",
       "    .dataframe tbody tr th {\n",
       "        vertical-align: top;\n",
       "    }\n",
       "\n",
       "    .dataframe thead th {\n",
       "        text-align: right;\n",
       "    }\n",
       "</style>\n",
       "<table border=\"1\" class=\"dataframe\">\n",
       "  <thead>\n",
       "    <tr style=\"text-align: right;\">\n",
       "      <th></th>\n",
       "      <th>Team_Country</th>\n",
       "      <th>NumberOfParticipants</th>\n",
       "    </tr>\n",
       "  </thead>\n",
       "  <tbody>\n",
       "    <tr>\n",
       "      <th>0</th>\n",
       "      <td>United States of America</td>\n",
       "      <td>615</td>\n",
       "    </tr>\n",
       "    <tr>\n",
       "      <th>1</th>\n",
       "      <td>Japan</td>\n",
       "      <td>586</td>\n",
       "    </tr>\n",
       "    <tr>\n",
       "      <th>2</th>\n",
       "      <td>Australia</td>\n",
       "      <td>470</td>\n",
       "    </tr>\n",
       "    <tr>\n",
       "      <th>3</th>\n",
       "      <td>People's Republic of China</td>\n",
       "      <td>401</td>\n",
       "    </tr>\n",
       "    <tr>\n",
       "      <th>4</th>\n",
       "      <td>Germany</td>\n",
       "      <td>400</td>\n",
       "    </tr>\n",
       "    <tr>\n",
       "      <th>5</th>\n",
       "      <td>France</td>\n",
       "      <td>377</td>\n",
       "    </tr>\n",
       "    <tr>\n",
       "      <th>6</th>\n",
       "      <td>Canada</td>\n",
       "      <td>368</td>\n",
       "    </tr>\n",
       "    <tr>\n",
       "      <th>7</th>\n",
       "      <td>Great Britain</td>\n",
       "      <td>366</td>\n",
       "    </tr>\n",
       "    <tr>\n",
       "      <th>8</th>\n",
       "      <td>Italy</td>\n",
       "      <td>356</td>\n",
       "    </tr>\n",
       "    <tr>\n",
       "      <th>9</th>\n",
       "      <td>Spain</td>\n",
       "      <td>324</td>\n",
       "    </tr>\n",
       "  </tbody>\n",
       "</table>\n",
       "</div>"
      ],
      "text/plain": [
       "                 Team_Country  NumberOfParticipants\n",
       "0    United States of America                   615\n",
       "1                       Japan                   586\n",
       "2                   Australia                   470\n",
       "3  People's Republic of China                   401\n",
       "4                     Germany                   400\n",
       "5                      France                   377\n",
       "6                      Canada                   368\n",
       "7               Great Britain                   366\n",
       "8                       Italy                   356\n",
       "9                       Spain                   324"
      ]
     },
     "execution_count": 17,
     "metadata": {},
     "output_type": "execute_result"
    }
   ],
   "source": [
    "participants_count = pd.DataFrame(athletes_df[\"Country\"].value_counts()).reset_index()\n",
    "participants_count.columns = ['Team_Country', \"NumberOfParticipants\"]\n",
    "participants_count.head(10)"
   ]
  },
  {
   "cell_type": "code",
   "execution_count": 0,
   "metadata": {
    "application/vnd.databricks.v1+cell": {
     "cellMetadata": {
      "byteLimit": 2048000,
      "rowLimit": 10000
     },
     "inputWidgets": {},
     "nuid": "f0309c78-ff41-43be-a9d5-8ee04720df69",
     "showTitle": false,
     "title": ""
    }
   },
   "outputs": [
    {
     "output_type": "execute_result",
     "data": {
      "text/html": [
       "<div>\n",
       "<style scoped>\n",
       "    .dataframe tbody tr th:only-of-type {\n",
       "        vertical-align: middle;\n",
       "    }\n",
       "\n",
       "    .dataframe tbody tr th {\n",
       "        vertical-align: top;\n",
       "    }\n",
       "\n",
       "    .dataframe thead th {\n",
       "        text-align: right;\n",
       "    }\n",
       "</style>\n",
       "<table border=\"1\" class=\"dataframe\">\n",
       "  <thead>\n",
       "    <tr style=\"text-align: right;\">\n",
       "      <th></th>\n",
       "      <th>Team_Country</th>\n",
       "      <th>NumberOfParticipants</th>\n",
       "      <th>Rank</th>\n",
       "      <th>Gold</th>\n",
       "      <th>Silver</th>\n",
       "      <th>Bronze</th>\n",
       "      <th>Total</th>\n",
       "      <th>Rank by Total</th>\n",
       "    </tr>\n",
       "  </thead>\n",
       "  <tbody>\n",
       "    <tr>\n",
       "      <th>0</th>\n",
       "      <td>United States of America</td>\n",
       "      <td>615</td>\n",
       "      <td>1</td>\n",
       "      <td>39</td>\n",
       "      <td>41</td>\n",
       "      <td>33</td>\n",
       "      <td>113</td>\n",
       "      <td>1</td>\n",
       "    </tr>\n",
       "    <tr>\n",
       "      <th>1</th>\n",
       "      <td>Japan</td>\n",
       "      <td>586</td>\n",
       "      <td>3</td>\n",
       "      <td>27</td>\n",
       "      <td>14</td>\n",
       "      <td>17</td>\n",
       "      <td>58</td>\n",
       "      <td>5</td>\n",
       "    </tr>\n",
       "    <tr>\n",
       "      <th>2</th>\n",
       "      <td>Australia</td>\n",
       "      <td>470</td>\n",
       "      <td>6</td>\n",
       "      <td>17</td>\n",
       "      <td>7</td>\n",
       "      <td>22</td>\n",
       "      <td>46</td>\n",
       "      <td>6</td>\n",
       "    </tr>\n",
       "    <tr>\n",
       "      <th>3</th>\n",
       "      <td>People's Republic of China</td>\n",
       "      <td>401</td>\n",
       "      <td>2</td>\n",
       "      <td>38</td>\n",
       "      <td>32</td>\n",
       "      <td>18</td>\n",
       "      <td>88</td>\n",
       "      <td>2</td>\n",
       "    </tr>\n",
       "    <tr>\n",
       "      <th>4</th>\n",
       "      <td>Germany</td>\n",
       "      <td>400</td>\n",
       "      <td>9</td>\n",
       "      <td>10</td>\n",
       "      <td>11</td>\n",
       "      <td>16</td>\n",
       "      <td>37</td>\n",
       "      <td>8</td>\n",
       "    </tr>\n",
       "  </tbody>\n",
       "</table>\n",
       "</div>"
      ],
      "text/plain": [
       "                 Team_Country  NumberOfParticipants  ...  Total  Rank by Total\n",
       "0    United States of America                   615  ...    113              1\n",
       "1                       Japan                   586  ...     58              5\n",
       "2                   Australia                   470  ...     46              6\n",
       "3  People's Republic of China                   401  ...     88              2\n",
       "4                     Germany                   400  ...     37              8\n",
       "\n",
       "[5 rows x 8 columns]"
      ]
     },
     "execution_count": 18,
     "metadata": {},
     "output_type": "execute_result"
    }
   ],
   "source": [
    "participants_count = participants_count.merge(medals_df, how = \"inner\", on = \"Team_Country\")\n",
    "participants_count.head()"
   ]
  },
  {
   "cell_type": "markdown",
   "metadata": {
    "application/vnd.databricks.v1+cell": {
     "cellMetadata": {
      "byteLimit": 2048000,
      "rowLimit": 10000
     },
     "inputWidgets": {},
     "nuid": "f9955a80-e97d-4ef1-a3e4-116a5a35cbde",
     "showTitle": false,
     "title": ""
    }
   },
   "source": [
    "Top 20 countries with best Medals to Participants ratio"
   ]
  },
  {
   "cell_type": "code",
   "execution_count": 0,
   "metadata": {
    "application/vnd.databricks.v1+cell": {
     "cellMetadata": {
      "byteLimit": 2048000,
      "rowLimit": 10000
     },
     "inputWidgets": {},
     "nuid": "9ef29a96-ab8b-4067-b4c1-c9a6857035af",
     "showTitle": false,
     "title": ""
    }
   },
   "outputs": [
    {
     "output_type": "execute_result",
     "data": {
      "text/html": [
       "<div>\n",
       "<style scoped>\n",
       "    .dataframe tbody tr th:only-of-type {\n",
       "        vertical-align: middle;\n",
       "    }\n",
       "\n",
       "    .dataframe tbody tr th {\n",
       "        vertical-align: top;\n",
       "    }\n",
       "\n",
       "    .dataframe thead th {\n",
       "        text-align: right;\n",
       "    }\n",
       "</style>\n",
       "<table border=\"1\" class=\"dataframe\">\n",
       "  <thead>\n",
       "    <tr style=\"text-align: right;\">\n",
       "      <th></th>\n",
       "      <th>Team_Country</th>\n",
       "      <th>NumberOfParticipants</th>\n",
       "      <th>Rank</th>\n",
       "      <th>Gold</th>\n",
       "      <th>Silver</th>\n",
       "      <th>Bronze</th>\n",
       "      <th>Total</th>\n",
       "      <th>Rank by Total</th>\n",
       "      <th>Total_Medals_Ratio</th>\n",
       "    </tr>\n",
       "  </thead>\n",
       "  <tbody>\n",
       "    <tr>\n",
       "      <th>91</th>\n",
       "      <td>San Marino</td>\n",
       "      <td>4</td>\n",
       "      <td>72</td>\n",
       "      <td>0</td>\n",
       "      <td>1</td>\n",
       "      <td>2</td>\n",
       "      <td>3</td>\n",
       "      <td>60</td>\n",
       "      <td>75.000000</td>\n",
       "    </tr>\n",
       "    <tr>\n",
       "      <th>92</th>\n",
       "      <td>Bermuda</td>\n",
       "      <td>2</td>\n",
       "      <td>63</td>\n",
       "      <td>1</td>\n",
       "      <td>0</td>\n",
       "      <td>0</td>\n",
       "      <td>1</td>\n",
       "      <td>77</td>\n",
       "      <td>50.000000</td>\n",
       "    </tr>\n",
       "    <tr>\n",
       "      <th>78</th>\n",
       "      <td>Armenia</td>\n",
       "      <td>16</td>\n",
       "      <td>69</td>\n",
       "      <td>0</td>\n",
       "      <td>2</td>\n",
       "      <td>2</td>\n",
       "      <td>4</td>\n",
       "      <td>47</td>\n",
       "      <td>25.000000</td>\n",
       "    </tr>\n",
       "    <tr>\n",
       "      <th>64</th>\n",
       "      <td>Georgia</td>\n",
       "      <td>35</td>\n",
       "      <td>33</td>\n",
       "      <td>2</td>\n",
       "      <td>5</td>\n",
       "      <td>1</td>\n",
       "      <td>8</td>\n",
       "      <td>29</td>\n",
       "      <td>22.857143</td>\n",
       "    </tr>\n",
       "    <tr>\n",
       "      <th>10</th>\n",
       "      <td>ROC</td>\n",
       "      <td>318</td>\n",
       "      <td>5</td>\n",
       "      <td>20</td>\n",
       "      <td>28</td>\n",
       "      <td>23</td>\n",
       "      <td>71</td>\n",
       "      <td>3</td>\n",
       "      <td>22.327044</td>\n",
       "    </tr>\n",
       "    <tr>\n",
       "      <th>75</th>\n",
       "      <td>Philippines</td>\n",
       "      <td>18</td>\n",
       "      <td>50</td>\n",
       "      <td>1</td>\n",
       "      <td>2</td>\n",
       "      <td>1</td>\n",
       "      <td>4</td>\n",
       "      <td>47</td>\n",
       "      <td>22.222222</td>\n",
       "    </tr>\n",
       "    <tr>\n",
       "      <th>3</th>\n",
       "      <td>People's Republic of China</td>\n",
       "      <td>401</td>\n",
       "      <td>2</td>\n",
       "      <td>38</td>\n",
       "      <td>32</td>\n",
       "      <td>18</td>\n",
       "      <td>88</td>\n",
       "      <td>2</td>\n",
       "      <td>21.945137</td>\n",
       "    </tr>\n",
       "    <tr>\n",
       "      <th>40</th>\n",
       "      <td>Cuba</td>\n",
       "      <td>69</td>\n",
       "      <td>14</td>\n",
       "      <td>7</td>\n",
       "      <td>3</td>\n",
       "      <td>5</td>\n",
       "      <td>15</td>\n",
       "      <td>18</td>\n",
       "      <td>21.739130</td>\n",
       "    </tr>\n",
       "    <tr>\n",
       "      <th>80</th>\n",
       "      <td>Qatar</td>\n",
       "      <td>14</td>\n",
       "      <td>41</td>\n",
       "      <td>2</td>\n",
       "      <td>0</td>\n",
       "      <td>1</td>\n",
       "      <td>3</td>\n",
       "      <td>60</td>\n",
       "      <td>21.428571</td>\n",
       "    </tr>\n",
       "    <tr>\n",
       "      <th>84</th>\n",
       "      <td>Kosovo</td>\n",
       "      <td>10</td>\n",
       "      <td>42</td>\n",
       "      <td>2</td>\n",
       "      <td>0</td>\n",
       "      <td>0</td>\n",
       "      <td>2</td>\n",
       "      <td>66</td>\n",
       "      <td>20.000000</td>\n",
       "    </tr>\n",
       "    <tr>\n",
       "      <th>72</th>\n",
       "      <td>Indonesia</td>\n",
       "      <td>26</td>\n",
       "      <td>55</td>\n",
       "      <td>1</td>\n",
       "      <td>1</td>\n",
       "      <td>3</td>\n",
       "      <td>5</td>\n",
       "      <td>42</td>\n",
       "      <td>19.230769</td>\n",
       "    </tr>\n",
       "    <tr>\n",
       "      <th>77</th>\n",
       "      <td>Kyrgyzstan</td>\n",
       "      <td>16</td>\n",
       "      <td>70</td>\n",
       "      <td>0</td>\n",
       "      <td>2</td>\n",
       "      <td>1</td>\n",
       "      <td>3</td>\n",
       "      <td>60</td>\n",
       "      <td>18.750000</td>\n",
       "    </tr>\n",
       "    <tr>\n",
       "      <th>0</th>\n",
       "      <td>United States of America</td>\n",
       "      <td>615</td>\n",
       "      <td>1</td>\n",
       "      <td>39</td>\n",
       "      <td>41</td>\n",
       "      <td>33</td>\n",
       "      <td>113</td>\n",
       "      <td>1</td>\n",
       "      <td>18.373984</td>\n",
       "    </tr>\n",
       "    <tr>\n",
       "      <th>82</th>\n",
       "      <td>Jordan</td>\n",
       "      <td>11</td>\n",
       "      <td>74</td>\n",
       "      <td>0</td>\n",
       "      <td>1</td>\n",
       "      <td>1</td>\n",
       "      <td>2</td>\n",
       "      <td>66</td>\n",
       "      <td>18.181818</td>\n",
       "    </tr>\n",
       "    <tr>\n",
       "      <th>41</th>\n",
       "      <td>Chinese Taipei</td>\n",
       "      <td>67</td>\n",
       "      <td>34</td>\n",
       "      <td>2</td>\n",
       "      <td>4</td>\n",
       "      <td>6</td>\n",
       "      <td>12</td>\n",
       "      <td>22</td>\n",
       "      <td>17.910448</td>\n",
       "    </tr>\n",
       "    <tr>\n",
       "      <th>7</th>\n",
       "      <td>Great Britain</td>\n",
       "      <td>366</td>\n",
       "      <td>4</td>\n",
       "      <td>22</td>\n",
       "      <td>21</td>\n",
       "      <td>22</td>\n",
       "      <td>65</td>\n",
       "      <td>4</td>\n",
       "      <td>17.759563</td>\n",
       "    </tr>\n",
       "    <tr>\n",
       "      <th>57</th>\n",
       "      <td>Azerbaijan</td>\n",
       "      <td>41</td>\n",
       "      <td>67</td>\n",
       "      <td>0</td>\n",
       "      <td>3</td>\n",
       "      <td>4</td>\n",
       "      <td>7</td>\n",
       "      <td>33</td>\n",
       "      <td>17.073171</td>\n",
       "    </tr>\n",
       "    <tr>\n",
       "      <th>90</th>\n",
       "      <td>Syrian Arab Republic</td>\n",
       "      <td>6</td>\n",
       "      <td>86</td>\n",
       "      <td>0</td>\n",
       "      <td>0</td>\n",
       "      <td>1</td>\n",
       "      <td>1</td>\n",
       "      <td>77</td>\n",
       "      <td>16.666667</td>\n",
       "    </tr>\n",
       "    <tr>\n",
       "      <th>89</th>\n",
       "      <td>Grenada</td>\n",
       "      <td>6</td>\n",
       "      <td>86</td>\n",
       "      <td>0</td>\n",
       "      <td>0</td>\n",
       "      <td>1</td>\n",
       "      <td>1</td>\n",
       "      <td>77</td>\n",
       "      <td>16.666667</td>\n",
       "    </tr>\n",
       "    <tr>\n",
       "      <th>73</th>\n",
       "      <td>Uganda</td>\n",
       "      <td>24</td>\n",
       "      <td>36</td>\n",
       "      <td>2</td>\n",
       "      <td>1</td>\n",
       "      <td>1</td>\n",
       "      <td>4</td>\n",
       "      <td>47</td>\n",
       "      <td>16.666667</td>\n",
       "    </tr>\n",
       "  </tbody>\n",
       "</table>\n",
       "</div>"
      ],
      "text/plain": [
       "                  Team_Country  ...  Total_Medals_Ratio\n",
       "91                  San Marino  ...           75.000000\n",
       "92                     Bermuda  ...           50.000000\n",
       "78                     Armenia  ...           25.000000\n",
       "64                     Georgia  ...           22.857143\n",
       "10                         ROC  ...           22.327044\n",
       "75                 Philippines  ...           22.222222\n",
       "3   People's Republic of China  ...           21.945137\n",
       "40                        Cuba  ...           21.739130\n",
       "80                       Qatar  ...           21.428571\n",
       "84                      Kosovo  ...           20.000000\n",
       "72                   Indonesia  ...           19.230769\n",
       "77                  Kyrgyzstan  ...           18.750000\n",
       "0     United States of America  ...           18.373984\n",
       "82                      Jordan  ...           18.181818\n",
       "41              Chinese Taipei  ...           17.910448\n",
       "7                Great Britain  ...           17.759563\n",
       "57                  Azerbaijan  ...           17.073171\n",
       "90        Syrian Arab Republic  ...           16.666667\n",
       "89                     Grenada  ...           16.666667\n",
       "73                      Uganda  ...           16.666667\n",
       "\n",
       "[20 rows x 9 columns]"
      ]
     },
     "execution_count": 19,
     "metadata": {},
     "output_type": "execute_result"
    }
   ],
   "source": [
    "participants_count[\"Total_Medals_Ratio\"] = (participants_count[\"Total\"]/participants_count[\"NumberOfParticipants\"])*100\n",
    "participants_count.sort_values(by=\"Total_Medals_Ratio\", ascending = False, inplace = True)\n",
    "participants_count.head(20)"
   ]
  },
  {
   "cell_type": "markdown",
   "metadata": {
    "application/vnd.databricks.v1+cell": {
     "cellMetadata": {
      "byteLimit": 2048000,
      "rowLimit": 10000
     },
     "inputWidgets": {},
     "nuid": "066a2b3e-e9d5-447e-bb2d-b325f9248c06",
     "showTitle": false,
     "title": ""
    }
   },
   "source": [
    "Top 20 Countries with worst Medals to Participants ratio"
   ]
  },
  {
   "cell_type": "code",
   "execution_count": 0,
   "metadata": {
    "application/vnd.databricks.v1+cell": {
     "cellMetadata": {
      "byteLimit": 2048000,
      "rowLimit": 10000
     },
     "inputWidgets": {},
     "nuid": "8648c8b9-9fb0-4dea-8483-6269146f1fef",
     "showTitle": false,
     "title": ""
    }
   },
   "outputs": [
    {
     "output_type": "execute_result",
     "data": {
      "text/html": [
       "<div>\n",
       "<style scoped>\n",
       "    .dataframe tbody tr th:only-of-type {\n",
       "        vertical-align: middle;\n",
       "    }\n",
       "\n",
       "    .dataframe tbody tr th {\n",
       "        vertical-align: top;\n",
       "    }\n",
       "\n",
       "    .dataframe thead th {\n",
       "        text-align: right;\n",
       "    }\n",
       "</style>\n",
       "<table border=\"1\" class=\"dataframe\">\n",
       "  <thead>\n",
       "    <tr style=\"text-align: right;\">\n",
       "      <th></th>\n",
       "      <th>Team_Country</th>\n",
       "      <th>NumberOfParticipants</th>\n",
       "      <th>Rank</th>\n",
       "      <th>Gold</th>\n",
       "      <th>Silver</th>\n",
       "      <th>Bronze</th>\n",
       "      <th>Total</th>\n",
       "      <th>Rank by Total</th>\n",
       "      <th>Total_Medals_Ratio</th>\n",
       "    </tr>\n",
       "  </thead>\n",
       "  <tbody>\n",
       "    <tr>\n",
       "      <th>16</th>\n",
       "      <td>Argentina</td>\n",
       "      <td>180</td>\n",
       "      <td>72</td>\n",
       "      <td>0</td>\n",
       "      <td>1</td>\n",
       "      <td>2</td>\n",
       "      <td>3</td>\n",
       "      <td>60</td>\n",
       "      <td>1.666667</td>\n",
       "    </tr>\n",
       "    <tr>\n",
       "      <th>17</th>\n",
       "      <td>South Africa</td>\n",
       "      <td>171</td>\n",
       "      <td>52</td>\n",
       "      <td>1</td>\n",
       "      <td>2</td>\n",
       "      <td>0</td>\n",
       "      <td>3</td>\n",
       "      <td>60</td>\n",
       "      <td>1.754386</td>\n",
       "    </tr>\n",
       "    <tr>\n",
       "      <th>51</th>\n",
       "      <td>Morocco</td>\n",
       "      <td>48</td>\n",
       "      <td>63</td>\n",
       "      <td>1</td>\n",
       "      <td>0</td>\n",
       "      <td>0</td>\n",
       "      <td>1</td>\n",
       "      <td>77</td>\n",
       "      <td>2.083333</td>\n",
       "    </tr>\n",
       "    <tr>\n",
       "      <th>18</th>\n",
       "      <td>Mexico</td>\n",
       "      <td>155</td>\n",
       "      <td>84</td>\n",
       "      <td>0</td>\n",
       "      <td>0</td>\n",
       "      <td>4</td>\n",
       "      <td>4</td>\n",
       "      <td>47</td>\n",
       "      <td>2.580645</td>\n",
       "    </tr>\n",
       "    <tr>\n",
       "      <th>62</th>\n",
       "      <td>Lithuania</td>\n",
       "      <td>37</td>\n",
       "      <td>77</td>\n",
       "      <td>0</td>\n",
       "      <td>1</td>\n",
       "      <td>0</td>\n",
       "      <td>1</td>\n",
       "      <td>77</td>\n",
       "      <td>2.702703</td>\n",
       "    </tr>\n",
       "    <tr>\n",
       "      <th>63</th>\n",
       "      <td>Puerto Rico</td>\n",
       "      <td>35</td>\n",
       "      <td>63</td>\n",
       "      <td>1</td>\n",
       "      <td>0</td>\n",
       "      <td>0</td>\n",
       "      <td>1</td>\n",
       "      <td>77</td>\n",
       "      <td>2.857143</td>\n",
       "    </tr>\n",
       "    <tr>\n",
       "      <th>66</th>\n",
       "      <td>Saudi Arabia</td>\n",
       "      <td>32</td>\n",
       "      <td>77</td>\n",
       "      <td>0</td>\n",
       "      <td>1</td>\n",
       "      <td>0</td>\n",
       "      <td>1</td>\n",
       "      <td>77</td>\n",
       "      <td>3.125000</td>\n",
       "    </tr>\n",
       "    <tr>\n",
       "      <th>67</th>\n",
       "      <td>Bahrain</td>\n",
       "      <td>31</td>\n",
       "      <td>77</td>\n",
       "      <td>0</td>\n",
       "      <td>1</td>\n",
       "      <td>0</td>\n",
       "      <td>1</td>\n",
       "      <td>77</td>\n",
       "      <td>3.225806</td>\n",
       "    </tr>\n",
       "    <tr>\n",
       "      <th>47</th>\n",
       "      <td>Nigeria</td>\n",
       "      <td>59</td>\n",
       "      <td>74</td>\n",
       "      <td>0</td>\n",
       "      <td>1</td>\n",
       "      <td>1</td>\n",
       "      <td>2</td>\n",
       "      <td>66</td>\n",
       "      <td>3.389831</td>\n",
       "    </tr>\n",
       "    <tr>\n",
       "      <th>26</th>\n",
       "      <td>Ireland</td>\n",
       "      <td>116</td>\n",
       "      <td>39</td>\n",
       "      <td>2</td>\n",
       "      <td>0</td>\n",
       "      <td>2</td>\n",
       "      <td>4</td>\n",
       "      <td>47</td>\n",
       "      <td>3.448276</td>\n",
       "    </tr>\n",
       "    <tr>\n",
       "      <th>68</th>\n",
       "      <td>Côte d'Ivoire</td>\n",
       "      <td>29</td>\n",
       "      <td>86</td>\n",
       "      <td>0</td>\n",
       "      <td>0</td>\n",
       "      <td>1</td>\n",
       "      <td>1</td>\n",
       "      <td>77</td>\n",
       "      <td>3.448276</td>\n",
       "    </tr>\n",
       "    <tr>\n",
       "      <th>48</th>\n",
       "      <td>Tunisia</td>\n",
       "      <td>57</td>\n",
       "      <td>58</td>\n",
       "      <td>1</td>\n",
       "      <td>1</td>\n",
       "      <td>0</td>\n",
       "      <td>2</td>\n",
       "      <td>66</td>\n",
       "      <td>3.508772</td>\n",
       "    </tr>\n",
       "    <tr>\n",
       "      <th>31</th>\n",
       "      <td>Romania</td>\n",
       "      <td>99</td>\n",
       "      <td>46</td>\n",
       "      <td>1</td>\n",
       "      <td>3</td>\n",
       "      <td>0</td>\n",
       "      <td>4</td>\n",
       "      <td>47</td>\n",
       "      <td>4.040404</td>\n",
       "    </tr>\n",
       "    <tr>\n",
       "      <th>53</th>\n",
       "      <td>Finland</td>\n",
       "      <td>45</td>\n",
       "      <td>85</td>\n",
       "      <td>0</td>\n",
       "      <td>0</td>\n",
       "      <td>2</td>\n",
       "      <td>2</td>\n",
       "      <td>66</td>\n",
       "      <td>4.444444</td>\n",
       "    </tr>\n",
       "    <tr>\n",
       "      <th>21</th>\n",
       "      <td>Egypt</td>\n",
       "      <td>133</td>\n",
       "      <td>54</td>\n",
       "      <td>1</td>\n",
       "      <td>1</td>\n",
       "      <td>4</td>\n",
       "      <td>6</td>\n",
       "      <td>39</td>\n",
       "      <td>4.511278</td>\n",
       "    </tr>\n",
       "    <tr>\n",
       "      <th>35</th>\n",
       "      <td>Portugal</td>\n",
       "      <td>85</td>\n",
       "      <td>56</td>\n",
       "      <td>1</td>\n",
       "      <td>1</td>\n",
       "      <td>2</td>\n",
       "      <td>4</td>\n",
       "      <td>47</td>\n",
       "      <td>4.705882</td>\n",
       "    </tr>\n",
       "    <tr>\n",
       "      <th>34</th>\n",
       "      <td>Israel</td>\n",
       "      <td>85</td>\n",
       "      <td>39</td>\n",
       "      <td>2</td>\n",
       "      <td>0</td>\n",
       "      <td>2</td>\n",
       "      <td>4</td>\n",
       "      <td>47</td>\n",
       "      <td>4.705882</td>\n",
       "    </tr>\n",
       "    <tr>\n",
       "      <th>60</th>\n",
       "      <td>Thailand</td>\n",
       "      <td>39</td>\n",
       "      <td>59</td>\n",
       "      <td>1</td>\n",
       "      <td>0</td>\n",
       "      <td>1</td>\n",
       "      <td>2</td>\n",
       "      <td>66</td>\n",
       "      <td>5.128205</td>\n",
       "    </tr>\n",
       "    <tr>\n",
       "      <th>9</th>\n",
       "      <td>Spain</td>\n",
       "      <td>324</td>\n",
       "      <td>22</td>\n",
       "      <td>3</td>\n",
       "      <td>8</td>\n",
       "      <td>6</td>\n",
       "      <td>17</td>\n",
       "      <td>17</td>\n",
       "      <td>5.246914</td>\n",
       "    </tr>\n",
       "    <tr>\n",
       "      <th>74</th>\n",
       "      <td>Republic of Moldova</td>\n",
       "      <td>19</td>\n",
       "      <td>86</td>\n",
       "      <td>0</td>\n",
       "      <td>0</td>\n",
       "      <td>1</td>\n",
       "      <td>1</td>\n",
       "      <td>77</td>\n",
       "      <td>5.263158</td>\n",
       "    </tr>\n",
       "  </tbody>\n",
       "</table>\n",
       "</div>"
      ],
      "text/plain": [
       "           Team_Country  ...  Total_Medals_Ratio\n",
       "16            Argentina  ...            1.666667\n",
       "17         South Africa  ...            1.754386\n",
       "51              Morocco  ...            2.083333\n",
       "18               Mexico  ...            2.580645\n",
       "62            Lithuania  ...            2.702703\n",
       "63          Puerto Rico  ...            2.857143\n",
       "66         Saudi Arabia  ...            3.125000\n",
       "67              Bahrain  ...            3.225806\n",
       "47              Nigeria  ...            3.389831\n",
       "26              Ireland  ...            3.448276\n",
       "68        Côte d'Ivoire  ...            3.448276\n",
       "48              Tunisia  ...            3.508772\n",
       "31              Romania  ...            4.040404\n",
       "53              Finland  ...            4.444444\n",
       "21                Egypt  ...            4.511278\n",
       "35             Portugal  ...            4.705882\n",
       "34               Israel  ...            4.705882\n",
       "60             Thailand  ...            5.128205\n",
       "9                 Spain  ...            5.246914\n",
       "74  Republic of Moldova  ...            5.263158\n",
       "\n",
       "[20 rows x 9 columns]"
      ]
     },
     "execution_count": 20,
     "metadata": {},
     "output_type": "execute_result"
    }
   ],
   "source": [
    "participants_count.sort_values(by=\"Total_Medals_Ratio\", ascending = True, inplace = True)\n",
    "participants_count.head(20)"
   ]
  },
  {
   "cell_type": "markdown",
   "metadata": {
    "application/vnd.databricks.v1+cell": {
     "cellMetadata": {
      "byteLimit": 2048000,
      "rowLimit": 10000
     },
     "inputWidgets": {},
     "nuid": "8f246fc5-bad8-48d3-8bc6-6d77a7ee1c78",
     "showTitle": false,
     "title": ""
    }
   },
   "source": [
    "Data Analysis using Spark SQL"
   ]
  },
  {
   "cell_type": "code",
   "execution_count": 0,
   "metadata": {
    "application/vnd.databricks.v1+cell": {
     "cellMetadata": {
      "byteLimit": 2048000,
      "rowLimit": 10000
     },
     "inputWidgets": {},
     "nuid": "fdb824a6-8287-49fa-986e-7a13ef045815",
     "showTitle": false,
     "title": ""
    }
   },
   "outputs": [],
   "source": [
    "#Register DataFrames as tenporary views using PySpark createOrReplaceTempView method\n",
    "athletes.createOrReplaceTempView(\"athletes\")\n",
    "coaches.createOrReplaceTempView(\"coaches\")\n",
    "entriesGender.createOrReplaceTempView(\"entriesGender\")\n",
    "medals.createOrReplaceTempView(\"medals\")\n",
    "teams.createOrReplaceTempView(\"teams\")"
   ]
  },
  {
   "cell_type": "markdown",
   "metadata": {
    "application/vnd.databricks.v1+cell": {
     "cellMetadata": {
      "byteLimit": 2048000,
      "rowLimit": 10000
     },
     "inputWidgets": {},
     "nuid": "b7782e03-599e-4c5d-8b9f-cab8c8136f6e",
     "showTitle": false,
     "title": ""
    }
   },
   "source": [
    "Analyze which sports disciplines won the most medals"
   ]
  },
  {
   "cell_type": "code",
   "execution_count": 0,
   "metadata": {
    "application/vnd.databricks.v1+cell": {
     "cellMetadata": {
      "byteLimit": 2048000,
      "implicitDf": true,
      "rowLimit": 10000
     },
     "inputWidgets": {},
     "nuid": "ddfe081e-5f1c-46bd-b4df-9f55be27b29d",
     "showTitle": false,
     "title": ""
    }
   },
   "outputs": [
    {
     "output_type": "display_data",
     "data": {
      "text/html": [
       "<style scoped>\n",
       "  .table-result-container {\n",
       "    max-height: 300px;\n",
       "    overflow: auto;\n",
       "  }\n",
       "  table, th, td {\n",
       "    border: 1px solid black;\n",
       "    border-collapse: collapse;\n",
       "  }\n",
       "  th, td {\n",
       "    padding: 5px;\n",
       "  }\n",
       "  th {\n",
       "    text-align: left;\n",
       "  }\n",
       "</style><div class='table-result-container'><table class='table-result'><thead style='background-color: white'><tr><th>Discipline</th><th>Total_Gold</th><th>Total_Silver</th><th>Total_Bronze</th></tr></thead><tbody><tr><td>Athletics</td><td>18324</td><td>17427</td><td>19111</td></tr><tr><td>Swimming</td><td>6560</td><td>6209</td><td>6735</td></tr><tr><td>Rowing</td><td>5804</td><td>5529</td><td>5970</td></tr><tr><td>Football</td><td>5457</td><td>4591</td><td>5304</td></tr><tr><td>Hockey</td><td>4108</td><td>3469</td><td>4270</td></tr><tr><td>Rugby Sevens</td><td>4059</td><td>3380</td><td>3652</td></tr><tr><td>Shooting</td><td>3409</td><td>3179</td><td>3337</td></tr><tr><td>Water Polo</td><td>3407</td><td>3084</td><td>3343</td></tr><tr><td>Fencing</td><td>3343</td><td>3272</td><td>3329</td></tr><tr><td>Basketball</td><td>3241</td><td>2769</td><td>3118</td></tr></tbody></table></div>"
      ]
     },
     "metadata": {
      "application/vnd.databricks.v1+output": {
       "addedWidgets": {},
       "aggData": [],
       "aggError": "",
       "aggOverflow": false,
       "aggSchema": [],
       "aggSeriesLimitReached": false,
       "aggType": "",
       "arguments": {},
       "columnCustomDisplayInfos": {},
       "data": [
        [
         "Athletics",
         18324,
         17427,
         19111
        ],
        [
         "Swimming",
         6560,
         6209,
         6735
        ],
        [
         "Rowing",
         5804,
         5529,
         5970
        ],
        [
         "Football",
         5457,
         4591,
         5304
        ],
        [
         "Hockey",
         4108,
         3469,
         4270
        ],
        [
         "Rugby Sevens",
         4059,
         3380,
         3652
        ],
        [
         "Shooting",
         3409,
         3179,
         3337
        ],
        [
         "Water Polo",
         3407,
         3084,
         3343
        ],
        [
         "Fencing",
         3343,
         3272,
         3329
        ],
        [
         "Basketball",
         3241,
         2769,
         3118
        ]
       ],
       "datasetInfos": [],
       "dbfsResultPath": null,
       "isJsonSchema": true,
       "metadata": {
        "dataframeName": "_sqldf",
        "executionCount": 27
       },
       "overflow": false,
       "plotOptions": {
        "customPlotOptions": {},
        "displayType": "table",
        "pivotAggregation": null,
        "pivotColumns": null,
        "xColumns": null,
        "yColumns": null
       },
       "removedWidgets": [],
       "schema": [
        {
         "metadata": "{}",
         "name": "Discipline",
         "type": "\"string\""
        },
        {
         "metadata": "{}",
         "name": "Total_Gold",
         "type": "\"long\""
        },
        {
         "metadata": "{}",
         "name": "Total_Silver",
         "type": "\"long\""
        },
        {
         "metadata": "{}",
         "name": "Total_Bronze",
         "type": "\"long\""
        }
       ],
       "type": "table"
      }
     },
     "output_type": "display_data"
    }
   ],
   "source": [
    "%sql\n",
    "\n",
    "SELECT Discipline, SUM(Gold) as Total_Gold, SUM(Silver) as Total_Silver, SUM(Bronze) as Total_Bronze\n",
    "FROM medals M\n",
    "JOIN athletes A ON Team_Country = Country\n",
    "GROUP BY Discipline\n",
    "ORDER BY Total_Gold DESC, Total_Silver DESC, Total_Bronze DESC\n",
    "LIMIT 10;\n"
   ]
  },
  {
   "cell_type": "markdown",
   "metadata": {
    "application/vnd.databricks.v1+cell": {
     "cellMetadata": {
      "byteLimit": 2048000,
      "rowLimit": 10000
     },
     "inputWidgets": {},
     "nuid": "6ded87a5-266d-41e5-8886-89d77b94f746",
     "showTitle": false,
     "title": ""
    }
   },
   "source": [
    "Calculate the coaches to participants ratio for each Discipline and Country"
   ]
  },
  {
   "cell_type": "code",
   "execution_count": 0,
   "metadata": {
    "application/vnd.databricks.v1+cell": {
     "cellMetadata": {
      "byteLimit": 2048000,
      "implicitDf": true,
      "rowLimit": 10000
     },
     "inputWidgets": {},
     "nuid": "4ba88243-80d7-4889-af5e-8a4c094f09d1",
     "showTitle": false,
     "title": ""
    }
   },
   "outputs": [
    {
     "output_type": "display_data",
     "data": {
      "text/html": [
       "<style scoped>\n",
       "  .table-result-container {\n",
       "    max-height: 300px;\n",
       "    overflow: auto;\n",
       "  }\n",
       "  table, th, td {\n",
       "    border: 1px solid black;\n",
       "    border-collapse: collapse;\n",
       "  }\n",
       "  th, td {\n",
       "    padding: 5px;\n",
       "  }\n",
       "  th {\n",
       "    text-align: left;\n",
       "  }\n",
       "</style><div class='table-result-container'><table class='table-result'><thead style='background-color: white'><tr><th>Discipline</th><th>Country</th><th>ParticipantsCount</th><th>CoachesCount</th><th>Participant2CoachRatio</th></tr></thead><tbody><tr><td>Artistic Swimming</td><td>Great Britain</td><td>1</td><td>2</td><td>0.5</td></tr><tr><td>Artistic Swimming</td><td>Austria</td><td>2</td><td>3</td><td>0.6666666666666666</td></tr><tr><td>Artistic Swimming</td><td>Mexico</td><td>2</td><td>2</td><td>1.0</td></tr><tr><td>Artistic Swimming</td><td>Colombia</td><td>2</td><td>2</td><td>1.0</td></tr><tr><td>Artistic Swimming</td><td>Netherlands</td><td>1</td><td>1</td><td>1.0</td></tr><tr><td>Artistic Swimming</td><td>Spain</td><td>8</td><td>6</td><td>1.3333333333333333</td></tr><tr><td>Artistic Swimming</td><td>Italy</td><td>8</td><td>5</td><td>1.6</td></tr><tr><td>Artistic Swimming</td><td>ROC</td><td>7</td><td>4</td><td>1.75</td></tr><tr><td>Artistic Swimming</td><td>United States of America</td><td>2</td><td>1</td><td>2.0</td></tr><tr><td>Artistic Swimming</td><td>Israel</td><td>2</td><td>1</td><td>2.0</td></tr><tr><td>Artistic Swimming</td><td>Egypt</td><td>8</td><td>4</td><td>2.0</td></tr><tr><td>Artistic Swimming</td><td>Liechtenstein</td><td>2</td><td>1</td><td>2.0</td></tr><tr><td>Artistic Swimming</td><td>Japan</td><td>8</td><td>4</td><td>2.0</td></tr><tr><td>Artistic Swimming</td><td>France</td><td>2</td><td>1</td><td>2.0</td></tr><tr><td>Artistic Swimming</td><td>Belarus</td><td>2</td><td>1</td><td>2.0</td></tr><tr><td>Artistic Swimming</td><td>Ukraine</td><td>8</td><td>4</td><td>2.0</td></tr><tr><td>Artistic Swimming</td><td>Kazakhstan</td><td>2</td><td>1</td><td>2.0</td></tr><tr><td>Artistic Swimming</td><td>Canada</td><td>6</td><td>3</td><td>2.0</td></tr><tr><td>Basketball</td><td>Spain</td><td>24</td><td>10</td><td>2.4</td></tr><tr><td>Basketball</td><td>Nigeria</td><td>23</td><td>9</td><td>2.5555555555555554</td></tr><tr><td>Basketball</td><td>United States of America</td><td>23</td><td>9</td><td>2.5555555555555554</td></tr><tr><td>Artistic Swimming</td><td>Greece</td><td>8</td><td>3</td><td>2.6666666666666665</td></tr><tr><td>Volleyball</td><td>Venezuela</td><td>12</td><td>4</td><td>3.0</td></tr><tr><td>Baseball/Softball</td><td>Canada</td><td>14</td><td>4</td><td>3.5</td></tr><tr><td>Football</td><td>Chile</td><td>21</td><td>6</td><td>3.5</td></tr><tr><td>Volleyball</td><td>Poland</td><td>11</td><td>3</td><td>3.6666666666666665</td></tr><tr><td>Volleyball</td><td>Kenya</td><td>12</td><td>3</td><td>4.0</td></tr><tr><td>Football</td><td>C�te d'Ivoire</td><td>20</td><td>5</td><td>4.0</td></tr><tr><td>Football</td><td>Egypt</td><td>20</td><td>5</td><td>4.0</td></tr><tr><td>Artistic Swimming</td><td>People's Republic of China</td><td>8</td><td>2</td><td>4.0</td></tr><tr><td>Volleyball</td><td>People's Republic of China</td><td>12</td><td>3</td><td>4.0</td></tr><tr><td>Basketball</td><td>Belgium</td><td>12</td><td>3</td><td>4.0</td></tr><tr><td>Basketball</td><td>Slovenia</td><td>12</td><td>3</td><td>4.0</td></tr><tr><td>Basketball</td><td>Puerto Rico</td><td>12</td><td>3</td><td>4.0</td></tr><tr><td>Volleyball</td><td>ROC</td><td>22</td><td>5</td><td>4.4</td></tr><tr><td>Volleyball</td><td>Japan</td><td>22</td><td>5</td><td>4.4</td></tr><tr><td>Volleyball</td><td>United States of America</td><td>22</td><td>5</td><td>4.4</td></tr><tr><td>Basketball</td><td>Australia</td><td>23</td><td>5</td><td>4.6</td></tr><tr><td>Basketball</td><td>Japan</td><td>23</td><td>5</td><td>4.6</td></tr><tr><td>Football</td><td>Spain</td><td>19</td><td>4</td><td>4.75</td></tr><tr><td>Football</td><td>South Africa</td><td>19</td><td>4</td><td>4.75</td></tr><tr><td>Baseball/Softball</td><td>Australia</td><td>15</td><td>3</td><td>5.0</td></tr><tr><td>Basketball</td><td>France</td><td>23</td><td>4</td><td>5.75</td></tr><tr><td>Volleyball</td><td>Argentina</td><td>23</td><td>4</td><td>5.75</td></tr><tr><td>Hockey</td><td>Australia</td><td>35</td><td>6</td><td>5.833333333333333</td></tr><tr><td>Basketball</td><td>People's Republic of China</td><td>12</td><td>2</td><td>6.0</td></tr><tr><td>Basketball</td><td>Serbia</td><td>12</td><td>2</td><td>6.0</td></tr><tr><td>Basketball</td><td>Czech Republic</td><td>12</td><td>2</td><td>6.0</td></tr><tr><td>Basketball</td><td>Germany</td><td>12</td><td>2</td><td>6.0</td></tr><tr><td>Baseball/Softball</td><td>United States of America</td><td>38</td><td>6</td><td>6.333333333333333</td></tr><tr><td>Hockey</td><td>Netherlands</td><td>33</td><td>5</td><td>6.6</td></tr><tr><td>Football</td><td>United States of America</td><td>20</td><td>3</td><td>6.666666666666667</td></tr><tr><td>Football</td><td>Japan</td><td>42</td><td>6</td><td>7.0</td></tr><tr><td>Artistic Swimming</td><td>Australia</td><td>7</td><td>1</td><td>7.0</td></tr><tr><td>Baseball/Softball</td><td>Italy</td><td>14</td><td>2</td><td>7.0</td></tr><tr><td>Hockey</td><td>India</td><td>35</td><td>5</td><td>7.0</td></tr><tr><td>Handball</td><td>Hungary</td><td>14</td><td>2</td><td>7.0</td></tr><tr><td>Hockey</td><td>South Africa</td><td>35</td><td>5</td><td>7.0</td></tr><tr><td>Volleyball</td><td>Italy</td><td>22</td><td>3</td><td>7.333333333333333</td></tr><tr><td>Handball</td><td>Denmark</td><td>15</td><td>2</td><td>7.5</td></tr><tr><td>Hockey</td><td>New Zealand</td><td>30</td><td>4</td><td>7.5</td></tr><tr><td>Handball</td><td>Netherlands</td><td>15</td><td>2</td><td>7.5</td></tr><tr><td>Hockey</td><td>Belgium</td><td>16</td><td>2</td><td>8.0</td></tr><tr><td>Hockey</td><td>Germany</td><td>33</td><td>4</td><td>8.25</td></tr><tr><td>Football</td><td>Germany</td><td>17</td><td>2</td><td>8.5</td></tr><tr><td>Hockey</td><td>Canada</td><td>18</td><td>2</td><td>9.0</td></tr><tr><td>Hockey</td><td>Ireland</td><td>18</td><td>2</td><td>9.0</td></tr><tr><td>Baseball/Softball</td><td>Japan</td><td>37</td><td>4</td><td>9.25</td></tr><tr><td>Handball</td><td>Japan</td><td>28</td><td>3</td><td>9.333333333333334</td></tr><tr><td>Football</td><td>Republic of Korea</td><td>20</td><td>2</td><td>10.0</td></tr><tr><td>Football</td><td>Romania</td><td>20</td><td>2</td><td>10.0</td></tr><tr><td>Volleyball</td><td>Tunisia</td><td>10</td><td>1</td><td>10.0</td></tr><tr><td>Handball</td><td>Norway</td><td>30</td><td>3</td><td>10.0</td></tr><tr><td>Basketball</td><td>Italy</td><td>10</td><td>1</td><td>10.0</td></tr><tr><td>Rugby Sevens</td><td>Kenya</td><td>21</td><td>2</td><td>10.5</td></tr><tr><td>Football</td><td>Mexico</td><td>21</td><td>2</td><td>10.5</td></tr><tr><td>Football</td><td>Saudi Arabia</td><td>21</td><td>2</td><td>10.5</td></tr><tr><td>Football</td><td>Zambia</td><td>21</td><td>2</td><td>10.5</td></tr><tr><td>Rugby Sevens</td><td>Japan</td><td>32</td><td>3</td><td>10.666666666666666</td></tr><tr><td>Hockey</td><td>Japan</td><td>32</td><td>3</td><td>10.666666666666666</td></tr><tr><td>Water Polo</td><td>South Africa</td><td>22</td><td>2</td><td>11.0</td></tr><tr><td>Rugby Sevens</td><td>Fiji</td><td>22</td><td>2</td><td>11.0</td></tr><tr><td>Rugby Sevens</td><td>Republic of Korea</td><td>11</td><td>1</td><td>11.0</td></tr><tr><td>Rugby Sevens</td><td>People's Republic of China</td><td>11</td><td>1</td><td>11.0</td></tr><tr><td>Rugby Sevens</td><td>France</td><td>11</td><td>1</td><td>11.0</td></tr><tr><td>Volleyball</td><td>France</td><td>11</td><td>1</td><td>11.0</td></tr><tr><td>Water Polo</td><td>Kazakhstan</td><td>11</td><td>1</td><td>11.0</td></tr><tr><td>Rugby Sevens</td><td>ROC</td><td>11</td><td>1</td><td>11.0</td></tr><tr><td>Basketball</td><td>Republic of Korea</td><td>11</td><td>1</td><td>11.0</td></tr><tr><td>Rugby Sevens</td><td>Great Britain</td><td>23</td><td>2</td><td>11.5</td></tr><tr><td>Volleyball</td><td>Brazil</td><td>23</td><td>2</td><td>11.5</td></tr><tr><td>Rugby Sevens</td><td>Australia</td><td>23</td><td>2</td><td>11.5</td></tr><tr><td>Rugby Sevens</td><td>Canada</td><td>23</td><td>2</td><td>11.5</td></tr><tr><td>Rugby Sevens</td><td>New Zealand</td><td>23</td><td>2</td><td>11.5</td></tr><tr><td>Water Polo</td><td>Japan</td><td>23</td><td>2</td><td>11.5</td></tr><tr><td>Basketball</td><td>Islamic Republic of Iran</td><td>12</td><td>1</td><td>12.0</td></tr><tr><td>Volleyball</td><td>Islamic Republic of Iran</td><td>12</td><td>1</td><td>12.0</td></tr><tr><td>Volleyball</td><td>Serbia</td><td>12</td><td>1</td><td>12.0</td></tr><tr><td>Rugby Sevens</td><td>South Africa</td><td>12</td><td>1</td><td>12.0</td></tr><tr><td>Volleyball</td><td>Turkey</td><td>12</td><td>1</td><td>12.0</td></tr><tr><td>Rugby Sevens</td><td>United States of America</td><td>24</td><td>2</td><td>12.0</td></tr><tr><td>Water Polo</td><td>ROC</td><td>12</td><td>1</td><td>12.0</td></tr><tr><td>Rugby Sevens</td><td>Argentina</td><td>12</td><td>1</td><td>12.0</td></tr><tr><td>Water Polo</td><td>Greece</td><td>12</td><td>1</td><td>12.0</td></tr><tr><td>Rugby Sevens</td><td>Brazil</td><td>12</td><td>1</td><td>12.0</td></tr><tr><td>Volleyball</td><td>Canada</td><td>12</td><td>1</td><td>12.0</td></tr><tr><td>Water Polo</td><td>Croatia</td><td>12</td><td>1</td><td>12.0</td></tr><tr><td>Volleyball</td><td>Republic of Korea</td><td>12</td><td>1</td><td>12.0</td></tr><tr><td>Volleyball</td><td>Dominican Republic</td><td>12</td><td>1</td><td>12.0</td></tr><tr><td>Rugby Sevens</td><td>Ireland</td><td>12</td><td>1</td><td>12.0</td></tr><tr><td>Water Polo</td><td>People's Republic of China</td><td>12</td><td>1</td><td>12.0</td></tr><tr><td>Handball</td><td>Portugal</td><td>12</td><td>1</td><td>12.0</td></tr><tr><td>Water Polo</td><td>Italy</td><td>12</td><td>1</td><td>12.0</td></tr><tr><td>Basketball</td><td>Argentina</td><td>12</td><td>1</td><td>12.0</td></tr><tr><td>Basketball</td><td>Canada</td><td>12</td><td>1</td><td>12.0</td></tr><tr><td>Baseball/Softball</td><td>Mexico</td><td>37</td><td>3</td><td>12.333333333333334</td></tr><tr><td>Water Polo</td><td>United States of America</td><td>25</td><td>2</td><td>12.5</td></tr><tr><td>Water Polo</td><td>Hungary</td><td>25</td><td>2</td><td>12.5</td></tr><tr><td>Water Polo</td><td>Australia</td><td>25</td><td>2</td><td>12.5</td></tr><tr><td>Water Polo</td><td>Serbia</td><td>13</td><td>1</td><td>13.0</td></tr><tr><td>Handball</td><td>Bahrain</td><td>13</td><td>1</td><td>13.0</td></tr><tr><td>Water Polo</td><td>Canada</td><td>13</td><td>1</td><td>13.0</td></tr><tr><td>Water Polo</td><td>Netherlands</td><td>13</td><td>1</td><td>13.0</td></tr><tr><td>Water Polo</td><td>Montenegro</td><td>13</td><td>1</td><td>13.0</td></tr><tr><td>Water Polo</td><td>Spain</td><td>26</td><td>2</td><td>13.0</td></tr><tr><td>Handball</td><td>France</td><td>28</td><td>2</td><td>14.0</td></tr><tr><td>Handball</td><td>Angola</td><td>14</td><td>1</td><td>14.0</td></tr><tr><td>Handball</td><td>Sweden</td><td>28</td><td>2</td><td>14.0</td></tr><tr><td>Handball</td><td>Egypt</td><td>14</td><td>1</td><td>14.0</td></tr><tr><td>Handball</td><td>Brazil</td><td>28</td><td>2</td><td>14.0</td></tr><tr><td>Handball</td><td>ROC</td><td>14</td><td>1</td><td>14.0</td></tr><tr><td>Handball</td><td>Spain</td><td>29</td><td>2</td><td>14.5</td></tr><tr><td>Handball</td><td>Republic of Korea</td><td>15</td><td>1</td><td>15.0</td></tr><tr><td>Handball</td><td>Germany</td><td>15</td><td>1</td><td>15.0</td></tr><tr><td>Handball</td><td>Argentina</td><td>15</td><td>1</td><td>15.0</td></tr><tr><td>Handball</td><td>Montenegro</td><td>15</td><td>1</td><td>15.0</td></tr><tr><td>Hockey</td><td>Great Britain</td><td>34</td><td>2</td><td>17.0</td></tr><tr><td>Hockey</td><td>People's Republic of China</td><td>17</td><td>1</td><td>17.0</td></tr><tr><td>Hockey</td><td>Spain</td><td>35</td><td>2</td><td>17.5</td></tr><tr><td>Football</td><td>Argentina</td><td>19</td><td>1</td><td>19.0</td></tr><tr><td>Football</td><td>New Zealand</td><td>39</td><td>2</td><td>19.5</td></tr><tr><td>Football</td><td>Sweden</td><td>20</td><td>1</td><td>20.0</td></tr><tr><td>Football</td><td>People's Republic of China</td><td>20</td><td>1</td><td>20.0</td></tr><tr><td>Football</td><td>Netherlands</td><td>20</td><td>1</td><td>20.0</td></tr><tr><td>Football</td><td>Honduras</td><td>20</td><td>1</td><td>20.0</td></tr><tr><td>Football</td><td>Brazil</td><td>41</td><td>2</td><td>20.5</td></tr><tr><td>Football</td><td>Great Britain</td><td>21</td><td>1</td><td>21.0</td></tr><tr><td>Baseball/Softball</td><td>Dominican Republic</td><td>21</td><td>1</td><td>21.0</td></tr><tr><td>Football</td><td>France</td><td>21</td><td>1</td><td>21.0</td></tr><tr><td>Football</td><td>Australia</td><td>43</td><td>2</td><td>21.5</td></tr><tr><td>Baseball/Softball</td><td>Israel</td><td>22</td><td>1</td><td>22.0</td></tr><tr><td>Football</td><td>Canada</td><td>22</td><td>1</td><td>22.0</td></tr><tr><td>Baseball/Softball</td><td>Republic of Korea</td><td>22</td><td>1</td><td>22.0</td></tr><tr><td>Hockey</td><td>Argentina</td><td>35</td><td>1</td><td>35.0</td></tr></tbody></table></div>"
      ]
     },
     "metadata": {
      "application/vnd.databricks.v1+output": {
       "addedWidgets": {},
       "aggData": [],
       "aggError": "",
       "aggOverflow": false,
       "aggSchema": [],
       "aggSeriesLimitReached": false,
       "aggType": "",
       "arguments": {},
       "columnCustomDisplayInfos": {},
       "data": [
        [
         "Artistic Swimming",
         "Great Britain",
         1,
         2,
         0.5
        ],
        [
         "Artistic Swimming",
         "Austria",
         2,
         3,
         0.6666666666666666
        ],
        [
         "Artistic Swimming",
         "Mexico",
         2,
         2,
         1.0
        ],
        [
         "Artistic Swimming",
         "Colombia",
         2,
         2,
         1.0
        ],
        [
         "Artistic Swimming",
         "Netherlands",
         1,
         1,
         1.0
        ],
        [
         "Artistic Swimming",
         "Spain",
         8,
         6,
         1.3333333333333333
        ],
        [
         "Artistic Swimming",
         "Italy",
         8,
         5,
         1.6
        ],
        [
         "Artistic Swimming",
         "ROC",
         7,
         4,
         1.75
        ],
        [
         "Artistic Swimming",
         "United States of America",
         2,
         1,
         2.0
        ],
        [
         "Artistic Swimming",
         "Israel",
         2,
         1,
         2.0
        ],
        [
         "Artistic Swimming",
         "Egypt",
         8,
         4,
         2.0
        ],
        [
         "Artistic Swimming",
         "Liechtenstein",
         2,
         1,
         2.0
        ],
        [
         "Artistic Swimming",
         "Japan",
         8,
         4,
         2.0
        ],
        [
         "Artistic Swimming",
         "France",
         2,
         1,
         2.0
        ],
        [
         "Artistic Swimming",
         "Belarus",
         2,
         1,
         2.0
        ],
        [
         "Artistic Swimming",
         "Ukraine",
         8,
         4,
         2.0
        ],
        [
         "Artistic Swimming",
         "Kazakhstan",
         2,
         1,
         2.0
        ],
        [
         "Artistic Swimming",
         "Canada",
         6,
         3,
         2.0
        ],
        [
         "Basketball",
         "Spain",
         24,
         10,
         2.4
        ],
        [
         "Basketball",
         "Nigeria",
         23,
         9,
         2.5555555555555554
        ],
        [
         "Basketball",
         "United States of America",
         23,
         9,
         2.5555555555555554
        ],
        [
         "Artistic Swimming",
         "Greece",
         8,
         3,
         2.6666666666666665
        ],
        [
         "Volleyball",
         "Venezuela",
         12,
         4,
         3.0
        ],
        [
         "Baseball/Softball",
         "Canada",
         14,
         4,
         3.5
        ],
        [
         "Football",
         "Chile",
         21,
         6,
         3.5
        ],
        [
         "Volleyball",
         "Poland",
         11,
         3,
         3.6666666666666665
        ],
        [
         "Volleyball",
         "Kenya",
         12,
         3,
         4.0
        ],
        [
         "Football",
         "C�te d'Ivoire",
         20,
         5,
         4.0
        ],
        [
         "Football",
         "Egypt",
         20,
         5,
         4.0
        ],
        [
         "Artistic Swimming",
         "People's Republic of China",
         8,
         2,
         4.0
        ],
        [
         "Volleyball",
         "People's Republic of China",
         12,
         3,
         4.0
        ],
        [
         "Basketball",
         "Belgium",
         12,
         3,
         4.0
        ],
        [
         "Basketball",
         "Slovenia",
         12,
         3,
         4.0
        ],
        [
         "Basketball",
         "Puerto Rico",
         12,
         3,
         4.0
        ],
        [
         "Volleyball",
         "ROC",
         22,
         5,
         4.4
        ],
        [
         "Volleyball",
         "Japan",
         22,
         5,
         4.4
        ],
        [
         "Volleyball",
         "United States of America",
         22,
         5,
         4.4
        ],
        [
         "Basketball",
         "Australia",
         23,
         5,
         4.6
        ],
        [
         "Basketball",
         "Japan",
         23,
         5,
         4.6
        ],
        [
         "Football",
         "Spain",
         19,
         4,
         4.75
        ],
        [
         "Football",
         "South Africa",
         19,
         4,
         4.75
        ],
        [
         "Baseball/Softball",
         "Australia",
         15,
         3,
         5.0
        ],
        [
         "Basketball",
         "France",
         23,
         4,
         5.75
        ],
        [
         "Volleyball",
         "Argentina",
         23,
         4,
         5.75
        ],
        [
         "Hockey",
         "Australia",
         35,
         6,
         5.833333333333333
        ],
        [
         "Basketball",
         "People's Republic of China",
         12,
         2,
         6.0
        ],
        [
         "Basketball",
         "Serbia",
         12,
         2,
         6.0
        ],
        [
         "Basketball",
         "Czech Republic",
         12,
         2,
         6.0
        ],
        [
         "Basketball",
         "Germany",
         12,
         2,
         6.0
        ],
        [
         "Baseball/Softball",
         "United States of America",
         38,
         6,
         6.333333333333333
        ],
        [
         "Hockey",
         "Netherlands",
         33,
         5,
         6.6
        ],
        [
         "Football",
         "United States of America",
         20,
         3,
         6.666666666666667
        ],
        [
         "Football",
         "Japan",
         42,
         6,
         7.0
        ],
        [
         "Artistic Swimming",
         "Australia",
         7,
         1,
         7.0
        ],
        [
         "Baseball/Softball",
         "Italy",
         14,
         2,
         7.0
        ],
        [
         "Hockey",
         "India",
         35,
         5,
         7.0
        ],
        [
         "Handball",
         "Hungary",
         14,
         2,
         7.0
        ],
        [
         "Hockey",
         "South Africa",
         35,
         5,
         7.0
        ],
        [
         "Volleyball",
         "Italy",
         22,
         3,
         7.333333333333333
        ],
        [
         "Handball",
         "Denmark",
         15,
         2,
         7.5
        ],
        [
         "Hockey",
         "New Zealand",
         30,
         4,
         7.5
        ],
        [
         "Handball",
         "Netherlands",
         15,
         2,
         7.5
        ],
        [
         "Hockey",
         "Belgium",
         16,
         2,
         8.0
        ],
        [
         "Hockey",
         "Germany",
         33,
         4,
         8.25
        ],
        [
         "Football",
         "Germany",
         17,
         2,
         8.5
        ],
        [
         "Hockey",
         "Canada",
         18,
         2,
         9.0
        ],
        [
         "Hockey",
         "Ireland",
         18,
         2,
         9.0
        ],
        [
         "Baseball/Softball",
         "Japan",
         37,
         4,
         9.25
        ],
        [
         "Handball",
         "Japan",
         28,
         3,
         9.333333333333334
        ],
        [
         "Football",
         "Republic of Korea",
         20,
         2,
         10.0
        ],
        [
         "Football",
         "Romania",
         20,
         2,
         10.0
        ],
        [
         "Volleyball",
         "Tunisia",
         10,
         1,
         10.0
        ],
        [
         "Handball",
         "Norway",
         30,
         3,
         10.0
        ],
        [
         "Basketball",
         "Italy",
         10,
         1,
         10.0
        ],
        [
         "Rugby Sevens",
         "Kenya",
         21,
         2,
         10.5
        ],
        [
         "Football",
         "Mexico",
         21,
         2,
         10.5
        ],
        [
         "Football",
         "Saudi Arabia",
         21,
         2,
         10.5
        ],
        [
         "Football",
         "Zambia",
         21,
         2,
         10.5
        ],
        [
         "Rugby Sevens",
         "Japan",
         32,
         3,
         10.666666666666666
        ],
        [
         "Hockey",
         "Japan",
         32,
         3,
         10.666666666666666
        ],
        [
         "Water Polo",
         "South Africa",
         22,
         2,
         11.0
        ],
        [
         "Rugby Sevens",
         "Fiji",
         22,
         2,
         11.0
        ],
        [
         "Rugby Sevens",
         "Republic of Korea",
         11,
         1,
         11.0
        ],
        [
         "Rugby Sevens",
         "People's Republic of China",
         11,
         1,
         11.0
        ],
        [
         "Rugby Sevens",
         "France",
         11,
         1,
         11.0
        ],
        [
         "Volleyball",
         "France",
         11,
         1,
         11.0
        ],
        [
         "Water Polo",
         "Kazakhstan",
         11,
         1,
         11.0
        ],
        [
         "Rugby Sevens",
         "ROC",
         11,
         1,
         11.0
        ],
        [
         "Basketball",
         "Republic of Korea",
         11,
         1,
         11.0
        ],
        [
         "Rugby Sevens",
         "Great Britain",
         23,
         2,
         11.5
        ],
        [
         "Volleyball",
         "Brazil",
         23,
         2,
         11.5
        ],
        [
         "Rugby Sevens",
         "Australia",
         23,
         2,
         11.5
        ],
        [
         "Rugby Sevens",
         "Canada",
         23,
         2,
         11.5
        ],
        [
         "Rugby Sevens",
         "New Zealand",
         23,
         2,
         11.5
        ],
        [
         "Water Polo",
         "Japan",
         23,
         2,
         11.5
        ],
        [
         "Basketball",
         "Islamic Republic of Iran",
         12,
         1,
         12.0
        ],
        [
         "Volleyball",
         "Islamic Republic of Iran",
         12,
         1,
         12.0
        ],
        [
         "Volleyball",
         "Serbia",
         12,
         1,
         12.0
        ],
        [
         "Rugby Sevens",
         "South Africa",
         12,
         1,
         12.0
        ],
        [
         "Volleyball",
         "Turkey",
         12,
         1,
         12.0
        ],
        [
         "Rugby Sevens",
         "United States of America",
         24,
         2,
         12.0
        ],
        [
         "Water Polo",
         "ROC",
         12,
         1,
         12.0
        ],
        [
         "Rugby Sevens",
         "Argentina",
         12,
         1,
         12.0
        ],
        [
         "Water Polo",
         "Greece",
         12,
         1,
         12.0
        ],
        [
         "Rugby Sevens",
         "Brazil",
         12,
         1,
         12.0
        ],
        [
         "Volleyball",
         "Canada",
         12,
         1,
         12.0
        ],
        [
         "Water Polo",
         "Croatia",
         12,
         1,
         12.0
        ],
        [
         "Volleyball",
         "Republic of Korea",
         12,
         1,
         12.0
        ],
        [
         "Volleyball",
         "Dominican Republic",
         12,
         1,
         12.0
        ],
        [
         "Rugby Sevens",
         "Ireland",
         12,
         1,
         12.0
        ],
        [
         "Water Polo",
         "People's Republic of China",
         12,
         1,
         12.0
        ],
        [
         "Handball",
         "Portugal",
         12,
         1,
         12.0
        ],
        [
         "Water Polo",
         "Italy",
         12,
         1,
         12.0
        ],
        [
         "Basketball",
         "Argentina",
         12,
         1,
         12.0
        ],
        [
         "Basketball",
         "Canada",
         12,
         1,
         12.0
        ],
        [
         "Baseball/Softball",
         "Mexico",
         37,
         3,
         12.333333333333334
        ],
        [
         "Water Polo",
         "United States of America",
         25,
         2,
         12.5
        ],
        [
         "Water Polo",
         "Hungary",
         25,
         2,
         12.5
        ],
        [
         "Water Polo",
         "Australia",
         25,
         2,
         12.5
        ],
        [
         "Water Polo",
         "Serbia",
         13,
         1,
         13.0
        ],
        [
         "Handball",
         "Bahrain",
         13,
         1,
         13.0
        ],
        [
         "Water Polo",
         "Canada",
         13,
         1,
         13.0
        ],
        [
         "Water Polo",
         "Netherlands",
         13,
         1,
         13.0
        ],
        [
         "Water Polo",
         "Montenegro",
         13,
         1,
         13.0
        ],
        [
         "Water Polo",
         "Spain",
         26,
         2,
         13.0
        ],
        [
         "Handball",
         "France",
         28,
         2,
         14.0
        ],
        [
         "Handball",
         "Angola",
         14,
         1,
         14.0
        ],
        [
         "Handball",
         "Sweden",
         28,
         2,
         14.0
        ],
        [
         "Handball",
         "Egypt",
         14,
         1,
         14.0
        ],
        [
         "Handball",
         "Brazil",
         28,
         2,
         14.0
        ],
        [
         "Handball",
         "ROC",
         14,
         1,
         14.0
        ],
        [
         "Handball",
         "Spain",
         29,
         2,
         14.5
        ],
        [
         "Handball",
         "Republic of Korea",
         15,
         1,
         15.0
        ],
        [
         "Handball",
         "Germany",
         15,
         1,
         15.0
        ],
        [
         "Handball",
         "Argentina",
         15,
         1,
         15.0
        ],
        [
         "Handball",
         "Montenegro",
         15,
         1,
         15.0
        ],
        [
         "Hockey",
         "Great Britain",
         34,
         2,
         17.0
        ],
        [
         "Hockey",
         "People's Republic of China",
         17,
         1,
         17.0
        ],
        [
         "Hockey",
         "Spain",
         35,
         2,
         17.5
        ],
        [
         "Football",
         "Argentina",
         19,
         1,
         19.0
        ],
        [
         "Football",
         "New Zealand",
         39,
         2,
         19.5
        ],
        [
         "Football",
         "Sweden",
         20,
         1,
         20.0
        ],
        [
         "Football",
         "People's Republic of China",
         20,
         1,
         20.0
        ],
        [
         "Football",
         "Netherlands",
         20,
         1,
         20.0
        ],
        [
         "Football",
         "Honduras",
         20,
         1,
         20.0
        ],
        [
         "Football",
         "Brazil",
         41,
         2,
         20.5
        ],
        [
         "Football",
         "Great Britain",
         21,
         1,
         21.0
        ],
        [
         "Baseball/Softball",
         "Dominican Republic",
         21,
         1,
         21.0
        ],
        [
         "Football",
         "France",
         21,
         1,
         21.0
        ],
        [
         "Football",
         "Australia",
         43,
         2,
         21.5
        ],
        [
         "Baseball/Softball",
         "Israel",
         22,
         1,
         22.0
        ],
        [
         "Football",
         "Canada",
         22,
         1,
         22.0
        ],
        [
         "Baseball/Softball",
         "Republic of Korea",
         22,
         1,
         22.0
        ],
        [
         "Hockey",
         "Argentina",
         35,
         1,
         35.0
        ]
       ],
       "datasetInfos": [],
       "dbfsResultPath": null,
       "isJsonSchema": true,
       "metadata": {
        "dataframeName": "_sqldf",
        "executionCount": 43
       },
       "overflow": false,
       "plotOptions": {
        "customPlotOptions": {},
        "displayType": "table",
        "pivotAggregation": null,
        "pivotColumns": null,
        "xColumns": null,
        "yColumns": null
       },
       "removedWidgets": [],
       "schema": [
        {
         "metadata": "{}",
         "name": "Discipline",
         "type": "\"string\""
        },
        {
         "metadata": "{}",
         "name": "Country",
         "type": "\"string\""
        },
        {
         "metadata": "{}",
         "name": "ParticipantsCount",
         "type": "\"long\""
        },
        {
         "metadata": "{}",
         "name": "CoachesCount",
         "type": "\"long\""
        },
        {
         "metadata": "{}",
         "name": "Participant2CoachRatio",
         "type": "\"double\""
        }
       ],
       "type": "table"
      }
     },
     "output_type": "display_data"
    }
   ],
   "source": [
    "%sql\n",
    "SELECT \n",
    "    athletes.Discipline, \n",
    "    athletes.Country, \n",
    "    COUNT(DISTINCT athletes.PersonName) as ParticipantsCount, \n",
    "    COUNT(DISTINCT coaches.Name) as CoachesCount,\n",
    "    ParticipantsCount/CoachesCount as Participant2CoachRatio\n",
    "FROM athletes \n",
    "JOIN coaches\n",
    "    ON athletes.Country = coaches.Country\n",
    "    AND athletes.Discipline = coaches.Discipline\n",
    "GROUP BY athletes.Discipline, athletes.Country\n",
    "ORDER BY Participant2CoachRatio ASC;\n"
   ]
  },
  {
   "cell_type": "markdown",
   "metadata": {
    "application/vnd.databricks.v1+cell": {
     "cellMetadata": {},
     "inputWidgets": {},
     "nuid": "51b141c7-3208-4e21-80da-8fb921812e40",
     "showTitle": false,
     "title": ""
    }
   },
   "source": [
    "Calculate the Coaches to participants ratio for each country"
   ]
  },
  {
   "cell_type": "code",
   "execution_count": 0,
   "metadata": {
    "application/vnd.databricks.v1+cell": {
     "cellMetadata": {
      "byteLimit": 2048000,
      "implicitDf": true,
      "rowLimit": 10000
     },
     "inputWidgets": {},
     "nuid": "6bea708e-488b-435c-b2a0-e99db4db648e",
     "showTitle": false,
     "title": ""
    }
   },
   "outputs": [
    {
     "output_type": "display_data",
     "data": {
      "text/html": [
       "<style scoped>\n",
       "  .table-result-container {\n",
       "    max-height: 300px;\n",
       "    overflow: auto;\n",
       "  }\n",
       "  table, th, td {\n",
       "    border: 1px solid black;\n",
       "    border-collapse: collapse;\n",
       "  }\n",
       "  th, td {\n",
       "    padding: 5px;\n",
       "  }\n",
       "  th {\n",
       "    text-align: left;\n",
       "  }\n",
       "</style><div class='table-result-container'><table class='table-result'><thead style='background-color: white'><tr><th>Country</th><th>ParticipantsCount</th><th>CoachesCount</th><th>Participants2CoachesRatio</th></tr></thead><tbody><tr><td>San Marino</td><td>4</td><td>2</td><td>2.0</td></tr><tr><td>Cambodia</td><td>3</td><td>1</td><td>3.0</td></tr><tr><td>Venezuela</td><td>43</td><td>10</td><td>4.3</td></tr><tr><td>Liechtenstein</td><td>5</td><td>1</td><td>5.0</td></tr><tr><td>C�te d'Ivoire</td><td>29</td><td>5</td><td>5.8</td></tr><tr><td>Nigeria</td><td>59</td><td>9</td><td>6.555555555555555</td></tr><tr><td>Chile</td><td>56</td><td>6</td><td>9.333333333333334</td></tr><tr><td>Dominican Republic</td><td>61</td><td>6</td><td>10.166666666666666</td></tr><tr><td>Puerto Rico</td><td>35</td><td>3</td><td>11.666666666666666</td></tr><tr><td>Spain</td><td>324</td><td>26</td><td>12.461538461538462</td></tr><tr><td>Egypt</td><td>133</td><td>10</td><td>13.3</td></tr><tr><td>Fiji</td><td>28</td><td>2</td><td>14.0</td></tr><tr><td>South Africa</td><td>171</td><td>12</td><td>14.25</td></tr><tr><td>Zambia</td><td>29</td><td>2</td><td>14.5</td></tr><tr><td>Kenya</td><td>78</td><td>5</td><td>15.6</td></tr><tr><td>Saudi Arabia</td><td>32</td><td>2</td><td>16.0</td></tr><tr><td>Serbia</td><td>83</td><td>5</td><td>16.6</td></tr><tr><td>Japan</td><td>585</td><td>35</td><td>16.714285714285715</td></tr><tr><td>Slovenia</td><td>51</td><td>3</td><td>17.0</td></tr><tr><td>Montenegro</td><td>35</td><td>2</td><td>17.5</td></tr><tr><td>Argentina</td><td>180</td><td>10</td><td>18.0</td></tr><tr><td>Greece</td><td>75</td><td>4</td><td>18.75</td></tr><tr><td>Angola</td><td>20</td><td>1</td><td>20.0</td></tr><tr><td>United States of America</td><td>614</td><td>28</td><td>21.928571428571427</td></tr><tr><td>Mexico</td><td>155</td><td>7</td><td>22.142857142857142</td></tr><tr><td>Australia</td><td>470</td><td>21</td><td>22.38095238095238</td></tr><tr><td>India</td><td>117</td><td>5</td><td>23.4</td></tr><tr><td>Austria</td><td>72</td><td>3</td><td>24.0</td></tr><tr><td>Canada</td><td>368</td><td>15</td><td>24.533333333333335</td></tr><tr><td>Belgium</td><td>124</td><td>5</td><td>24.8</td></tr><tr><td>Honduras</td><td>25</td><td>1</td><td>25.0</td></tr><tr><td>New Zealand</td><td>202</td><td>8</td><td>25.25</td></tr><tr><td>ROC</td><td>318</td><td>12</td><td>26.5</td></tr><tr><td>Netherlands</td><td>272</td><td>10</td><td>27.2</td></tr><tr><td>Italy</td><td>354</td><td>12</td><td>29.5</td></tr><tr><td>Bahrain</td><td>30</td><td>1</td><td>30.0</td></tr><tr><td>Norway</td><td>92</td><td>3</td><td>30.666666666666668</td></tr><tr><td>Republic of Korea</td><td>222</td><td>7</td><td>31.714285714285715</td></tr><tr><td>Colombia</td><td>64</td><td>2</td><td>32.0</td></tr><tr><td>Islamic Republic of Iran</td><td>66</td><td>2</td><td>33.0</td></tr><tr><td>People's Republic of China</td><td>398</td><td>11</td><td>36.18181818181818</td></tr><tr><td>France</td><td>377</td><td>10</td><td>37.7</td></tr><tr><td>Ukraine</td><td>152</td><td>4</td><td>38.0</td></tr><tr><td>Slovakia</td><td>38</td><td>1</td><td>38.0</td></tr><tr><td>Hungary</td><td>154</td><td>4</td><td>38.5</td></tr><tr><td>Ireland</td><td>116</td><td>3</td><td>38.666666666666664</td></tr><tr><td>Brazil</td><td>291</td><td>7</td><td>41.57142857142857</td></tr><tr><td>Israel</td><td>85</td><td>2</td><td>42.5</td></tr><tr><td>Sweden</td><td>129</td><td>3</td><td>43.0</td></tr><tr><td>Germany</td><td>399</td><td>9</td><td>44.333333333333336</td></tr><tr><td>Kazakhstan</td><td>92</td><td>2</td><td>46.0</td></tr><tr><td>Romania</td><td>99</td><td>2</td><td>49.5</td></tr><tr><td>Denmark</td><td>103</td><td>2</td><td>51.5</td></tr><tr><td>Great Britain</td><td>366</td><td>7</td><td>52.285714285714285</td></tr><tr><td>Croatia</td><td>57</td><td>1</td><td>57.0</td></tr><tr><td>Tunisia</td><td>57</td><td>1</td><td>57.0</td></tr><tr><td>Czech Republic</td><td>117</td><td>2</td><td>58.5</td></tr><tr><td>Poland</td><td>195</td><td>3</td><td>65.0</td></tr><tr><td>Portugal</td><td>85</td><td>1</td><td>85.0</td></tr><tr><td>Turkey</td><td>102</td><td>1</td><td>102.0</td></tr><tr><td>Belarus</td><td>104</td><td>1</td><td>104.0</td></tr></tbody></table></div>"
      ]
     },
     "metadata": {
      "application/vnd.databricks.v1+output": {
       "addedWidgets": {},
       "aggData": [],
       "aggError": "",
       "aggOverflow": false,
       "aggSchema": [],
       "aggSeriesLimitReached": false,
       "aggType": "",
       "arguments": {},
       "columnCustomDisplayInfos": {},
       "data": [
        [
         "San Marino",
         4,
         2,
         2.0
        ],
        [
         "Cambodia",
         3,
         1,
         3.0
        ],
        [
         "Venezuela",
         43,
         10,
         4.3
        ],
        [
         "Liechtenstein",
         5,
         1,
         5.0
        ],
        [
         "C�te d'Ivoire",
         29,
         5,
         5.8
        ],
        [
         "Nigeria",
         59,
         9,
         6.555555555555555
        ],
        [
         "Chile",
         56,
         6,
         9.333333333333334
        ],
        [
         "Dominican Republic",
         61,
         6,
         10.166666666666666
        ],
        [
         "Puerto Rico",
         35,
         3,
         11.666666666666666
        ],
        [
         "Spain",
         324,
         26,
         12.461538461538462
        ],
        [
         "Egypt",
         133,
         10,
         13.3
        ],
        [
         "Fiji",
         28,
         2,
         14.0
        ],
        [
         "South Africa",
         171,
         12,
         14.25
        ],
        [
         "Zambia",
         29,
         2,
         14.5
        ],
        [
         "Kenya",
         78,
         5,
         15.6
        ],
        [
         "Saudi Arabia",
         32,
         2,
         16.0
        ],
        [
         "Serbia",
         83,
         5,
         16.6
        ],
        [
         "Japan",
         585,
         35,
         16.714285714285715
        ],
        [
         "Slovenia",
         51,
         3,
         17.0
        ],
        [
         "Montenegro",
         35,
         2,
         17.5
        ],
        [
         "Argentina",
         180,
         10,
         18.0
        ],
        [
         "Greece",
         75,
         4,
         18.75
        ],
        [
         "Angola",
         20,
         1,
         20.0
        ],
        [
         "United States of America",
         614,
         28,
         21.928571428571427
        ],
        [
         "Mexico",
         155,
         7,
         22.142857142857142
        ],
        [
         "Australia",
         470,
         21,
         22.38095238095238
        ],
        [
         "India",
         117,
         5,
         23.4
        ],
        [
         "Austria",
         72,
         3,
         24.0
        ],
        [
         "Canada",
         368,
         15,
         24.533333333333335
        ],
        [
         "Belgium",
         124,
         5,
         24.8
        ],
        [
         "Honduras",
         25,
         1,
         25.0
        ],
        [
         "New Zealand",
         202,
         8,
         25.25
        ],
        [
         "ROC",
         318,
         12,
         26.5
        ],
        [
         "Netherlands",
         272,
         10,
         27.2
        ],
        [
         "Italy",
         354,
         12,
         29.5
        ],
        [
         "Bahrain",
         30,
         1,
         30.0
        ],
        [
         "Norway",
         92,
         3,
         30.666666666666668
        ],
        [
         "Republic of Korea",
         222,
         7,
         31.714285714285715
        ],
        [
         "Colombia",
         64,
         2,
         32.0
        ],
        [
         "Islamic Republic of Iran",
         66,
         2,
         33.0
        ],
        [
         "People's Republic of China",
         398,
         11,
         36.18181818181818
        ],
        [
         "France",
         377,
         10,
         37.7
        ],
        [
         "Ukraine",
         152,
         4,
         38.0
        ],
        [
         "Slovakia",
         38,
         1,
         38.0
        ],
        [
         "Hungary",
         154,
         4,
         38.5
        ],
        [
         "Ireland",
         116,
         3,
         38.666666666666664
        ],
        [
         "Brazil",
         291,
         7,
         41.57142857142857
        ],
        [
         "Israel",
         85,
         2,
         42.5
        ],
        [
         "Sweden",
         129,
         3,
         43.0
        ],
        [
         "Germany",
         399,
         9,
         44.333333333333336
        ],
        [
         "Kazakhstan",
         92,
         2,
         46.0
        ],
        [
         "Romania",
         99,
         2,
         49.5
        ],
        [
         "Denmark",
         103,
         2,
         51.5
        ],
        [
         "Great Britain",
         366,
         7,
         52.285714285714285
        ],
        [
         "Croatia",
         57,
         1,
         57.0
        ],
        [
         "Tunisia",
         57,
         1,
         57.0
        ],
        [
         "Czech Republic",
         117,
         2,
         58.5
        ],
        [
         "Poland",
         195,
         3,
         65.0
        ],
        [
         "Portugal",
         85,
         1,
         85.0
        ],
        [
         "Turkey",
         102,
         1,
         102.0
        ],
        [
         "Belarus",
         104,
         1,
         104.0
        ]
       ],
       "datasetInfos": [],
       "dbfsResultPath": null,
       "isJsonSchema": true,
       "metadata": {
        "dataframeName": "_sqldf",
        "executionCount": 42
       },
       "overflow": false,
       "plotOptions": {
        "customPlotOptions": {},
        "displayType": "table",
        "pivotAggregation": null,
        "pivotColumns": null,
        "xColumns": null,
        "yColumns": null
       },
       "removedWidgets": [],
       "schema": [
        {
         "metadata": "{}",
         "name": "Country",
         "type": "\"string\""
        },
        {
         "metadata": "{}",
         "name": "ParticipantsCount",
         "type": "\"long\""
        },
        {
         "metadata": "{}",
         "name": "CoachesCount",
         "type": "\"long\""
        },
        {
         "metadata": "{}",
         "name": "Participants2CoachesRatio",
         "type": "\"double\""
        }
       ],
       "type": "table"
      }
     },
     "output_type": "display_data"
    }
   ],
   "source": [
    "%sql\n",
    "SELECT \n",
    "    athletes.Country,\n",
    "    COUNT(DISTINCT athletes.PersonName) as ParticipantsCount,\n",
    "    COUNT(DISTINCT coaches.Name) as CoachesCount,\n",
    "    (ParticipantsCount / CoachesCount) as Participants2CoachesRatio\n",
    "FROM athletes \n",
    "JOIN coaches\n",
    "    ON athletes.Country = coaches.Country\n",
    "GROUP BY athletes.Country\n",
    "ORDER BY Participants2CoachesRatio ASC\n"
   ]
  },
  {
   "cell_type": "markdown",
   "metadata": {
    "application/vnd.databricks.v1+cell": {
     "cellMetadata": {},
     "inputWidgets": {},
     "nuid": "e5f89a8d-421e-4b7d-a33c-618dac5bd4de",
     "showTitle": false,
     "title": ""
    }
   },
   "source": [
    "Analyze the relation between number of coaches and number of medals won for distintive countries"
   ]
  },
  {
   "cell_type": "code",
   "execution_count": 0,
   "metadata": {
    "application/vnd.databricks.v1+cell": {
     "cellMetadata": {
      "byteLimit": 2048000,
      "implicitDf": true,
      "rowLimit": 10000
     },
     "inputWidgets": {},
     "nuid": "61d171e2-a9c0-4c5b-9ff1-155a5adf9830",
     "showTitle": false,
     "title": ""
    }
   },
   "outputs": [
    {
     "output_type": "display_data",
     "data": {
      "text/html": [
       "<style scoped>\n",
       "  .table-result-container {\n",
       "    max-height: 300px;\n",
       "    overflow: auto;\n",
       "  }\n",
       "  table, th, td {\n",
       "    border: 1px solid black;\n",
       "    border-collapse: collapse;\n",
       "  }\n",
       "  th, td {\n",
       "    padding: 5px;\n",
       "  }\n",
       "  th {\n",
       "    text-align: left;\n",
       "  }\n",
       "</style><div class='table-result-container'><table class='table-result'><thead style='background-color: white'><tr><th>Country</th><th>ParticipantsCount</th><th>CoachesCount</th><th>Participants2CoachesRatio</th><th>Total_Medals</th></tr></thead><tbody><tr><td>Japan</td><td>585</td><td>35</td><td>16.714285714285715</td><td>20510</td></tr><tr><td>United States of America</td><td>614</td><td>28</td><td>21.928571428571427</td><td>17220</td></tr><tr><td>Australia</td><td>470</td><td>21</td><td>22.38095238095238</td><td>10340</td></tr><tr><td>Spain</td><td>324</td><td>26</td><td>12.461538461538462</td><td>9072</td></tr><tr><td>Canada</td><td>368</td><td>15</td><td>24.533333333333335</td><td>5888</td></tr><tr><td>Italy</td><td>354</td><td>12</td><td>29.5</td><td>4984</td></tr><tr><td>People's Republic of China</td><td>398</td><td>11</td><td>36.18181818181818</td><td>4812</td></tr><tr><td>ROC</td><td>318</td><td>12</td><td>26.5</td><td>3816</td></tr><tr><td>France</td><td>377</td><td>10</td><td>37.7</td><td>3770</td></tr><tr><td>Germany</td><td>399</td><td>9</td><td>44.333333333333336</td><td>3600</td></tr><tr><td>Netherlands</td><td>272</td><td>10</td><td>27.2</td><td>2740</td></tr><tr><td>Great Britain</td><td>366</td><td>7</td><td>52.285714285714285</td><td>2562</td></tr><tr><td>South Africa</td><td>171</td><td>12</td><td>14.25</td><td>2052</td></tr><tr><td>Brazil</td><td>291</td><td>7</td><td>41.57142857142857</td><td>2037</td></tr><tr><td>Argentina</td><td>180</td><td>10</td><td>18.0</td><td>1980</td></tr><tr><td>New Zealand</td><td>202</td><td>8</td><td>25.25</td><td>1616</td></tr><tr><td>Egypt</td><td>133</td><td>10</td><td>13.3</td><td>1596</td></tr><tr><td>Republic of Korea</td><td>222</td><td>7</td><td>31.714285714285715</td><td>1561</td></tr><tr><td>Mexico</td><td>155</td><td>7</td><td>22.142857142857142</td><td>1240</td></tr><tr><td>Belgium</td><td>124</td><td>5</td><td>24.8</td><td>625</td></tr></tbody></table></div>"
      ]
     },
     "metadata": {
      "application/vnd.databricks.v1+output": {
       "addedWidgets": {},
       "aggData": [],
       "aggError": "",
       "aggOverflow": false,
       "aggSchema": [],
       "aggSeriesLimitReached": false,
       "aggType": "",
       "arguments": {},
       "columnCustomDisplayInfos": {},
       "data": [
        [
         "Japan",
         585,
         35,
         16.714285714285715,
         20510
        ],
        [
         "United States of America",
         614,
         28,
         21.928571428571427,
         17220
        ],
        [
         "Australia",
         470,
         21,
         22.38095238095238,
         10340
        ],
        [
         "Spain",
         324,
         26,
         12.461538461538462,
         9072
        ],
        [
         "Canada",
         368,
         15,
         24.533333333333335,
         5888
        ],
        [
         "Italy",
         354,
         12,
         29.5,
         4984
        ],
        [
         "People's Republic of China",
         398,
         11,
         36.18181818181818,
         4812
        ],
        [
         "ROC",
         318,
         12,
         26.5,
         3816
        ],
        [
         "France",
         377,
         10,
         37.7,
         3770
        ],
        [
         "Germany",
         399,
         9,
         44.333333333333336,
         3600
        ],
        [
         "Netherlands",
         272,
         10,
         27.2,
         2740
        ],
        [
         "Great Britain",
         366,
         7,
         52.285714285714285,
         2562
        ],
        [
         "South Africa",
         171,
         12,
         14.25,
         2052
        ],
        [
         "Brazil",
         291,
         7,
         41.57142857142857,
         2037
        ],
        [
         "Argentina",
         180,
         10,
         18.0,
         1980
        ],
        [
         "New Zealand",
         202,
         8,
         25.25,
         1616
        ],
        [
         "Egypt",
         133,
         10,
         13.3,
         1596
        ],
        [
         "Republic of Korea",
         222,
         7,
         31.714285714285715,
         1561
        ],
        [
         "Mexico",
         155,
         7,
         22.142857142857142,
         1240
        ],
        [
         "Belgium",
         124,
         5,
         24.8,
         625
        ]
       ],
       "datasetInfos": [],
       "dbfsResultPath": null,
       "isJsonSchema": true,
       "metadata": {
        "dataframeName": "_sqldf",
        "executionCount": 46
       },
       "overflow": false,
       "plotOptions": {
        "customPlotOptions": {},
        "displayType": "table",
        "pivotAggregation": null,
        "pivotColumns": null,
        "xColumns": null,
        "yColumns": null
       },
       "removedWidgets": [],
       "schema": [
        {
         "metadata": "{}",
         "name": "Country",
         "type": "\"string\""
        },
        {
         "metadata": "{}",
         "name": "ParticipantsCount",
         "type": "\"long\""
        },
        {
         "metadata": "{}",
         "name": "CoachesCount",
         "type": "\"long\""
        },
        {
         "metadata": "{}",
         "name": "Participants2CoachesRatio",
         "type": "\"double\""
        },
        {
         "metadata": "{}",
         "name": "Total_Medals",
         "type": "\"long\""
        }
       ],
       "type": "table"
      }
     },
     "output_type": "display_data"
    }
   ],
   "source": [
    "%sql\n",
    "SELECT \n",
    "    athletes.Country,\n",
    "    COUNT(DISTINCT athletes.PersonName) as ParticipantsCount,\n",
    "    COUNT(DISTINCT coaches.Name) as CoachesCount,\n",
    "    (ParticipantsCount / CoachesCount) as Participants2CoachesRatio,\n",
    "    COUNT(medals.Total) as Total_Medals\n",
    "FROM athletes \n",
    "JOIN coaches\n",
    "    ON athletes.Country = coaches.Country\n",
    "JOIN medals\n",
    "    ON athletes.Country = medals.Team_Country\n",
    "GROUP BY athletes.Country\n",
    "ORDER BY Total_Medals DESC, Participants2CoachesRatio DESC\n",
    "LIMIt 20;"
   ]
  },
  {
   "cell_type": "code",
   "execution_count": 0,
   "metadata": {
    "application/vnd.databricks.v1+cell": {
     "cellMetadata": {},
     "inputWidgets": {},
     "nuid": "e3ceccc4-da17-45a0-b08e-d652b66a1dc8",
     "showTitle": false,
     "title": ""
    }
   },
   "outputs": [],
   "source": []
  }
 ],
 "metadata": {
  "application/vnd.databricks.v1+notebook": {
   "dashboards": [],
   "language": "python",
   "notebookMetadata": {
    "mostRecentlyExecutedCommandWithImplicitDF": {
     "commandId": 2824017788979135,
     "dataframes": [
      "_sqldf"
     ]
    },
    "pythonIndentUnit": 4
   },
   "notebookName": "Tokyo Olympics ETL Code",
   "widgets": {}
  }
 },
 "nbformat": 4,
 "nbformat_minor": 0
}
